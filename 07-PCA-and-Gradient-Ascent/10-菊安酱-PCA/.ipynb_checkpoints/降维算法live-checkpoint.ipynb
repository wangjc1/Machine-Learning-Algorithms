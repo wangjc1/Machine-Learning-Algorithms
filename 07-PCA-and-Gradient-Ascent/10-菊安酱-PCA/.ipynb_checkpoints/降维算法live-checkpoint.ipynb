{
 "cells": [
  {
   "cell_type": "code",
   "execution_count": 28,
   "metadata": {},
   "outputs": [],
   "source": [
    "#导入相应包\n",
    "import numpy as np\n",
    "import pandas as pd\n",
    "import matplotlib.pyplot as plt"
   ]
  },
  {
   "cell_type": "markdown",
   "metadata": {},
   "source": [
    "# 特征值和特征向量"
   ]
  },
  {
   "cell_type": "code",
   "execution_count": 29,
   "metadata": {},
   "outputs": [
    {
     "data": {
      "text/plain": [
       "matrix([[-2.12132034, -0.70710678,  0.        ,  2.12132034,  0.70710678]])"
      ]
     },
     "execution_count": 29,
     "metadata": {},
     "output_type": "execute_result"
    }
   ],
   "source": [
    "A = np.mat([[-1,-1,0,2,0],[-2,0,0,1,1]])\n",
    "E = A.dot(A.T) * 1/5\n",
    "L,Q = np.linalg.eig(E)\n",
    "E,L,Q\n",
    "(Q.T.dot(E)).dot(Q)\n",
    "Q[:,0].reshape(1,-1).dot(A)"
   ]
  },
  {
   "cell_type": "code",
   "execution_count": 30,
   "metadata": {},
   "outputs": [
    {
     "data": {
      "text/plain": [
       "(array([4., 2.]), matrix([[ 0.70710678,  0.70710678],\n",
       "         [-0.70710678,  0.70710678]]))"
      ]
     },
     "execution_count": 30,
     "metadata": {},
     "output_type": "execute_result"
    }
   ],
   "source": [
    "A = np.mat([[3,-1],[-1,3]])\n",
    "\"\"\"\n",
    "np.linalg.eig返回特征值和特征向量\n",
    "1）特征向量是以列形式的\n",
    "2）特征值和特征向量的顺序一致\n",
    "3）特征向量都是经过单位化的(除以各自的模)\n",
    "4）其实特征向量应该有两个方向，通常我们手工计算时取的是正方向，\n",
    "   而np.linalg.eig方法计算的特征向量取的是负方向\n",
    "\"\"\"\n",
    "eVals,eVectors = np.linalg.eig(A)\n",
    "eVals,eVectors"
   ]
  },
  {
   "cell_type": "markdown",
   "metadata": {},
   "source": [
    "## 对比np.linalg.eig()方法和手动求解特征向量\n",
    "通过对比发现手动求解特征向量和用np.linalg.eig()方法求解的特征向量方向正好相反\n",
    "这是因为np.linalg.eig()方法求解得到的特征向量是负方向"
   ]
  },
  {
   "cell_type": "code",
   "execution_count": 31,
   "metadata": {},
   "outputs": [],
   "source": [
    "A = np.mat([[-1,1,0],[-4,3,0],[1,0,2]])"
   ]
  },
  {
   "cell_type": "code",
   "execution_count": 32,
   "metadata": {},
   "outputs": [
    {
     "data": {
      "text/plain": [
       "(array([2., 1., 1.]), matrix([[ 0.        ,  0.40824829,  0.40824829],\n",
       "         [ 0.        ,  0.81649658,  0.81649658],\n",
       "         [ 1.        , -0.40824829, -0.40824829]]))"
      ]
     },
     "execution_count": 32,
     "metadata": {},
     "output_type": "execute_result"
    }
   ],
   "source": [
    "eVals,eVectors = np.linalg.eig(A)\n",
    "eVals,eVectors"
   ]
  },
  {
   "cell_type": "code",
   "execution_count": 33,
   "metadata": {},
   "outputs": [
    {
     "data": {
      "text/plain": [
       "array([1., 1., 1.])"
      ]
     },
     "execution_count": 33,
     "metadata": {},
     "output_type": "execute_result"
    }
   ],
   "source": [
    "#np.linalg.eig求出的特征向量的模为1，说明已经被单位化了\n",
    "np.linalg.norm(eVectors,axis=0)"
   ]
  },
  {
   "cell_type": "markdown",
   "metadata": {},
   "source": [
    "手动求解过程：\n",
    "https://blog.csdn.net/appleyuchi/article/details/80117398"
   ]
  },
  {
   "cell_type": "code",
   "execution_count": 34,
   "metadata": {},
   "outputs": [
    {
     "data": {
      "text/plain": [
       "matrix([[ 0.        , -0.40824829, -0.40824829],\n",
       "        [ 0.        , -0.81649658, -0.81649658],\n",
       "        [ 1.        ,  0.40824829,  0.40824829]])"
      ]
     },
     "execution_count": 34,
     "metadata": {},
     "output_type": "execute_result"
    }
   ],
   "source": [
    "#特征向量单位化，m_eVectors是通过手工计算的出的特征向量\n",
    "m_eVals = [2,1,1]\n",
    "m_eVectors = np.mat([[0,0,1],[-1,-2,1],[-1,-2,1]]).T\n",
    "X = m_eVectors/np.linalg.norm(m_eVectors,axis=0)\n",
    "X"
   ]
  },
  {
   "cell_type": "code",
   "execution_count": 35,
   "metadata": {},
   "outputs": [
    {
     "data": {
      "text/plain": [
       "(matrix([[0.],\n",
       "         [0.],\n",
       "         [2.]]), matrix([[0.],\n",
       "         [0.],\n",
       "         [2.]]))"
      ]
     },
     "execution_count": 35,
     "metadata": {},
     "output_type": "execute_result"
    }
   ],
   "source": [
    "#验证特征向量 AX = λX\n",
    "v_index = 0\n",
    "v_X = eVectors[:,v_index]\n",
    "A.dot(v_X) ,  m_eVals[v_index] * v_X"
   ]
  },
  {
   "cell_type": "markdown",
   "metadata": {},
   "source": [
    "## 降维处理"
   ]
  },
  {
   "cell_type": "code",
   "execution_count": 36,
   "metadata": {},
   "outputs": [
    {
     "data": {
      "text/html": [
       "<div>\n",
       "<style scoped>\n",
       "    .dataframe tbody tr th:only-of-type {\n",
       "        vertical-align: middle;\n",
       "    }\n",
       "\n",
       "    .dataframe tbody tr th {\n",
       "        vertical-align: top;\n",
       "    }\n",
       "\n",
       "    .dataframe thead th {\n",
       "        text-align: right;\n",
       "    }\n",
       "</style>\n",
       "<table border=\"1\" class=\"dataframe\">\n",
       "  <thead>\n",
       "    <tr style=\"text-align: right;\">\n",
       "      <th></th>\n",
       "      <th>0</th>\n",
       "      <th>1</th>\n",
       "    </tr>\n",
       "  </thead>\n",
       "  <tbody>\n",
       "    <tr>\n",
       "      <th>0</th>\n",
       "      <td>10.235186</td>\n",
       "      <td>11.321997</td>\n",
       "    </tr>\n",
       "    <tr>\n",
       "      <th>1</th>\n",
       "      <td>10.122339</td>\n",
       "      <td>11.810993</td>\n",
       "    </tr>\n",
       "    <tr>\n",
       "      <th>2</th>\n",
       "      <td>9.190236</td>\n",
       "      <td>8.904943</td>\n",
       "    </tr>\n",
       "    <tr>\n",
       "      <th>3</th>\n",
       "      <td>9.306371</td>\n",
       "      <td>9.847394</td>\n",
       "    </tr>\n",
       "    <tr>\n",
       "      <th>4</th>\n",
       "      <td>8.330131</td>\n",
       "      <td>8.340352</td>\n",
       "    </tr>\n",
       "  </tbody>\n",
       "</table>\n",
       "</div>"
      ],
      "text/plain": [
       "           0          1\n",
       "0  10.235186  11.321997\n",
       "1  10.122339  11.810993\n",
       "2   9.190236   8.904943\n",
       "3   9.306371   9.847394\n",
       "4   8.330131   8.340352"
      ]
     },
     "execution_count": 36,
     "metadata": {},
     "output_type": "execute_result"
    }
   ],
   "source": [
    "#导入数据\n",
    "testSet = pd.read_csv('testSet.txt',header=None,sep='\\t')\n",
    "testSet.head()"
   ]
  },
  {
   "cell_type": "code",
   "execution_count": 37,
   "metadata": {},
   "outputs": [
    {
     "data": {
      "text/plain": [
       "(1000, 2)"
      ]
     },
     "execution_count": 37,
     "metadata": {},
     "output_type": "execute_result"
    }
   ],
   "source": [
    "testSet.shape"
   ]
  },
  {
   "cell_type": "code",
   "execution_count": 38,
   "metadata": {},
   "outputs": [
    {
     "data": {
      "image/png": "[encoded data removed]",
      "text/plain": [
       "<Figure size 432x288 with 1 Axes>"
      ]
     },
     "metadata": {
      "needs_background": "light"
     },
     "output_type": "display_data"
    }
   ],
   "source": [
    "#查看原始数据分布\n",
    "plt.scatter(testSet.iloc[:,0],testSet.iloc[:,1],marker = '.',c='orange');"
   ]
  },
  {
   "cell_type": "code",
   "execution_count": 39,
   "metadata": {},
   "outputs": [
    {
     "data": {
      "text/html": [
       "<div>\n",
       "<style scoped>\n",
       "    .dataframe tbody tr th:only-of-type {\n",
       "        vertical-align: middle;\n",
       "    }\n",
       "\n",
       "    .dataframe tbody tr th {\n",
       "        vertical-align: top;\n",
       "    }\n",
       "\n",
       "    .dataframe thead th {\n",
       "        text-align: right;\n",
       "    }\n",
       "</style>\n",
       "<table border=\"1\" class=\"dataframe\">\n",
       "  <thead>\n",
       "    <tr style=\"text-align: right;\">\n",
       "      <th></th>\n",
       "      <th>0</th>\n",
       "      <th>1</th>\n",
       "    </tr>\n",
       "  </thead>\n",
       "  <tbody>\n",
       "    <tr>\n",
       "      <th>0</th>\n",
       "      <td>10.235186</td>\n",
       "      <td>11.321997</td>\n",
       "    </tr>\n",
       "    <tr>\n",
       "      <th>1</th>\n",
       "      <td>10.122339</td>\n",
       "      <td>11.810993</td>\n",
       "    </tr>\n",
       "    <tr>\n",
       "      <th>2</th>\n",
       "      <td>9.190236</td>\n",
       "      <td>8.904943</td>\n",
       "    </tr>\n",
       "    <tr>\n",
       "      <th>3</th>\n",
       "      <td>9.306371</td>\n",
       "      <td>9.847394</td>\n",
       "    </tr>\n",
       "    <tr>\n",
       "      <th>4</th>\n",
       "      <td>8.330131</td>\n",
       "      <td>8.340352</td>\n",
       "    </tr>\n",
       "  </tbody>\n",
       "</table>\n",
       "</div>"
      ],
      "text/plain": [
       "           0          1\n",
       "0  10.235186  11.321997\n",
       "1  10.122339  11.810993\n",
       "2   9.190236   8.904943\n",
       "3   9.306371   9.847394\n",
       "4   8.330131   8.340352"
      ]
     },
     "execution_count": 39,
     "metadata": {},
     "output_type": "execute_result"
    }
   ],
   "source": [
    "dataSet = testSet.copy()\n",
    "dataSet.head()"
   ]
  },
  {
   "cell_type": "code",
   "execution_count": 40,
   "metadata": {},
   "outputs": [
    {
     "data": {
      "text/plain": [
       "0    9.063936\n",
       "1    9.096002\n",
       "dtype: float64"
      ]
     },
     "execution_count": 40,
     "metadata": {},
     "output_type": "execute_result"
    }
   ],
   "source": [
    "#计算均值\n",
    "meanVals = dataSet.mean(0)\n",
    "meanVals"
   ]
  },
  {
   "cell_type": "markdown",
   "metadata": {},
   "source": [
    "## 协方差矩阵\n",
    "![](协方差矩阵.png)"
   ]
  },
  {
   "cell_type": "code",
   "execution_count": 41,
   "metadata": {},
   "outputs": [
    {
     "data": {
      "text/html": [
       "<div>\n",
       "<style scoped>\n",
       "    .dataframe tbody tr th:only-of-type {\n",
       "        vertical-align: middle;\n",
       "    }\n",
       "\n",
       "    .dataframe tbody tr th {\n",
       "        vertical-align: top;\n",
       "    }\n",
       "\n",
       "    .dataframe thead th {\n",
       "        text-align: right;\n",
       "    }\n",
       "</style>\n",
       "<table border=\"1\" class=\"dataframe\">\n",
       "  <thead>\n",
       "    <tr style=\"text-align: right;\">\n",
       "      <th></th>\n",
       "      <th>0</th>\n",
       "      <th>1</th>\n",
       "    </tr>\n",
       "  </thead>\n",
       "  <tbody>\n",
       "    <tr>\n",
       "      <th>0</th>\n",
       "      <td>1.171250</td>\n",
       "      <td>2.225995</td>\n",
       "    </tr>\n",
       "    <tr>\n",
       "      <th>1</th>\n",
       "      <td>1.058403</td>\n",
       "      <td>2.714991</td>\n",
       "    </tr>\n",
       "    <tr>\n",
       "      <th>2</th>\n",
       "      <td>0.126300</td>\n",
       "      <td>-0.191059</td>\n",
       "    </tr>\n",
       "  </tbody>\n",
       "</table>\n",
       "</div>"
      ],
      "text/plain": [
       "          0         1\n",
       "0  1.171250  2.225995\n",
       "1  1.058403  2.714991\n",
       "2  0.126300 -0.191059"
      ]
     },
     "execution_count": 41,
     "metadata": {},
     "output_type": "execute_result"
    }
   ],
   "source": [
    "#去均值化，均值变为0 \n",
    "meanRemoved = dataSet - meanVals\n",
    "meanRemoved.head(3)"
   ]
  },
  {
   "cell_type": "code",
   "execution_count": 45,
   "metadata": {},
   "outputs": [
    {
     "data": {
      "text/html": [
       "<div>\n",
       "<style scoped>\n",
       "    .dataframe tbody tr th:only-of-type {\n",
       "        vertical-align: middle;\n",
       "    }\n",
       "\n",
       "    .dataframe tbody tr th {\n",
       "        vertical-align: top;\n",
       "    }\n",
       "\n",
       "    .dataframe thead th {\n",
       "        text-align: right;\n",
       "    }\n",
       "</style>\n",
       "<table border=\"1\" class=\"dataframe\">\n",
       "  <thead>\n",
       "    <tr style=\"text-align: right;\">\n",
       "      <th></th>\n",
       "      <th>0</th>\n",
       "      <th>1</th>\n",
       "    </tr>\n",
       "  </thead>\n",
       "  <tbody>\n",
       "    <tr>\n",
       "      <th>0</th>\n",
       "      <td>1.050932</td>\n",
       "      <td>1.123507</td>\n",
       "    </tr>\n",
       "    <tr>\n",
       "      <th>1</th>\n",
       "      <td>1.123507</td>\n",
       "      <td>2.209453</td>\n",
       "    </tr>\n",
       "  </tbody>\n",
       "</table>\n",
       "</div>"
      ],
      "text/plain": [
       "          0         1\n",
       "0  1.050932  1.123507\n",
       "1  1.123507  2.209453"
      ]
     },
     "execution_count": 45,
     "metadata": {},
     "output_type": "execute_result"
    }
   ],
   "source": [
    "#1. 第一种方法计算协方差\n",
    "meanRemoved.T.dot(meanRemoved)/1000"
   ]
  },
  {
   "cell_type": "code",
   "execution_count": 18,
   "metadata": {},
   "outputs": [
    {
     "data": {
      "text/plain": [
       "matrix([[1.05198368, 1.1246314 ],\n",
       "        [1.1246314 , 2.21166499]])"
      ]
     },
     "execution_count": 18,
     "metadata": {},
     "output_type": "execute_result"
    }
   ],
   "source": [
    "#2. 第二种办法计算协方差，计算协方差矩阵，计算各维度之间的协方差，2维有2*2个协方差\n",
    "covMat = np.mat(np.cov(meanRemoved, rowvar=0))\n",
    "covMat"
   ]
  },
  {
   "cell_type": "code",
   "execution_count": 19,
   "metadata": {},
   "outputs": [],
   "source": [
    "#计算方差矩阵的特征值和右特征向量\n",
    "eigVals,eigVects = np.linalg.eig(covMat)"
   ]
  },
  {
   "cell_type": "code",
   "execution_count": 20,
   "metadata": {},
   "outputs": [
    {
     "data": {
      "text/plain": [
       "array([0.36651371, 2.89713496])"
      ]
     },
     "execution_count": 20,
     "metadata": {},
     "output_type": "execute_result"
    }
   ],
   "source": [
    "eigVals"
   ]
  },
  {
   "cell_type": "code",
   "execution_count": 15,
   "metadata": {},
   "outputs": [
    {
     "data": {
      "text/plain": [
       "(2,)"
      ]
     },
     "execution_count": 15,
     "metadata": {},
     "output_type": "execute_result"
    }
   ],
   "source": [
    "eigVals.shape"
   ]
  },
  {
   "cell_type": "code",
   "execution_count": 16,
   "metadata": {},
   "outputs": [
    {
     "data": {
      "text/plain": [
       "matrix([[-0.85389096, -0.52045195],\n",
       "        [ 0.52045195, -0.85389096]])"
      ]
     },
     "execution_count": 16,
     "metadata": {},
     "output_type": "execute_result"
    }
   ],
   "source": [
    "eigVects"
   ]
  },
  {
   "cell_type": "code",
   "execution_count": 17,
   "metadata": {},
   "outputs": [
    {
     "data": {
      "text/plain": [
       "(2, 2)"
      ]
     },
     "execution_count": 17,
     "metadata": {},
     "output_type": "execute_result"
    }
   ],
   "source": [
    "eigVects.shape"
   ]
  },
  {
   "cell_type": "code",
   "execution_count": 27,
   "metadata": {},
   "outputs": [],
   "source": [
    "#对特征值排序，.argsort()函数默认从小到大排序\n",
    "eigValInd = np.argsort(eigVals) "
   ]
  },
  {
   "cell_type": "code",
   "execution_count": 32,
   "metadata": {},
   "outputs": [
    {
     "data": {
      "text/plain": [
       "array([1], dtype=int64)"
      ]
     },
     "execution_count": 32,
     "metadata": {},
     "output_type": "execute_result"
    }
   ],
   "source": [
    "#提取出最大的N个特征\n",
    "N=1\n",
    "#因为eigValInd是从小到大排列的，取出倒数N个最大的特征值\n",
    "eigValInd = eigValInd[:-(N+1):-1]\n",
    "eigValInd"
   ]
  },
  {
   "cell_type": "code",
   "execution_count": 33,
   "metadata": {},
   "outputs": [
    {
     "data": {
      "text/plain": [
       "matrix([[-0.52045195],\n",
       "        [-0.85389096]])"
      ]
     },
     "execution_count": 33,
     "metadata": {},
     "output_type": "execute_result"
    }
   ],
   "source": [
    "redEigVects = eigVects[:,eigValInd] \n",
    "redEigVects"
   ]
  },
  {
   "cell_type": "code",
   "execution_count": 65,
   "metadata": {},
   "outputs": [
    {
     "data": {
      "text/plain": [
       "matrix([[ 1.17124956,  1.05840256,  0.12629956, ...,  0.79098556,\n",
       "          0.05064356,  1.27096256],\n",
       "        [ 2.22599482,  2.71499082, -0.19105918, ...,  0.10539082,\n",
       "          0.03821282, -0.55239818]])"
      ]
     },
     "execution_count": 65,
     "metadata": {},
     "output_type": "execute_result"
    }
   ],
   "source": [
    "ni = np.linalg.inv(eigVects)\n",
    "#ni.dot(np.mat(meanRemoved).T).T\n",
    "np.mat(meanRemoved).T"
   ]
  },
  {
   "cell_type": "code",
   "execution_count": 66,
   "metadata": {},
   "outputs": [
    {
     "data": {
      "text/plain": [
       "matrix([[ 1.17124956,  2.22599482],\n",
       "        [ 1.05840256,  2.71499082],\n",
       "        [ 0.12629956, -0.19105918],\n",
       "        ...,\n",
       "        [ 0.79098556,  0.10539082],\n",
       "        [ 0.05064356,  0.03821282],\n",
       "        [ 1.27096256, -0.55239818]])"
      ]
     },
     "execution_count": 66,
     "metadata": {},
     "output_type": "execute_result"
    }
   ],
   "source": [
    "np.mat(meanRemoved)"
   ]
  },
  {
   "cell_type": "code",
   "execution_count": 23,
   "metadata": {},
   "outputs": [
    {
     "data": {
      "text/plain": [
       "matrix([[-2.51033597],\n",
       "        [-2.86915379],\n",
       "        [ 0.09741085],\n",
       "        [-0.76778222],\n",
       "        [ 1.02715333],\n",
       "        [-1.44409178],\n",
       "        [-2.17360352],\n",
       "        [-0.7739988 ],\n",
       "        [-1.09983463],\n",
       "        [-1.70275987]])"
      ]
     },
     "execution_count": 23,
     "metadata": {},
     "output_type": "execute_result"
    }
   ],
   "source": [
    "#注意此处meanRemoved要转换成矩阵\n",
    "lowDDataMat = np.mat(meanRemoved) * redEigVects \n",
    "lowDDataMat[:10]"
   ]
  },
  {
   "cell_type": "code",
   "execution_count": 24,
   "metadata": {},
   "outputs": [],
   "source": [
    "reconMat = (lowDDataMat * redEigVects.T) + np.mat(meanVals)"
   ]
  },
  {
   "cell_type": "code",
   "execution_count": 25,
   "metadata": {},
   "outputs": [
    {
     "data": {
      "text/plain": [
       "matrix([[10.37044569, 11.23955536],\n",
       "        [10.55719313, 11.54594665],\n",
       "        [ 9.01323877,  9.01282393],\n",
       "        ...,\n",
       "        [ 9.32502753,  9.52436704],\n",
       "        [ 9.0946364 ,  9.14637075],\n",
       "        [ 9.16271152,  9.2580597 ]])"
      ]
     },
     "execution_count": 25,
     "metadata": {},
     "output_type": "execute_result"
    }
   ],
   "source": [
    "reconMat"
   ]
  },
  {
   "cell_type": "code",
   "execution_count": 26,
   "metadata": {},
   "outputs": [
    {
     "data": {
      "text/html": [
       "<div>\n",
       "<style scoped>\n",
       "    .dataframe tbody tr th:only-of-type {\n",
       "        vertical-align: middle;\n",
       "    }\n",
       "\n",
       "    .dataframe tbody tr th {\n",
       "        vertical-align: top;\n",
       "    }\n",
       "\n",
       "    .dataframe thead th {\n",
       "        text-align: right;\n",
       "    }\n",
       "</style>\n",
       "<table border=\"1\" class=\"dataframe\">\n",
       "  <thead>\n",
       "    <tr style=\"text-align: right;\">\n",
       "      <th></th>\n",
       "      <th>0</th>\n",
       "      <th>1</th>\n",
       "    </tr>\n",
       "  </thead>\n",
       "  <tbody>\n",
       "    <tr>\n",
       "      <th>0</th>\n",
       "      <td>10.235186</td>\n",
       "      <td>11.321997</td>\n",
       "    </tr>\n",
       "    <tr>\n",
       "      <th>1</th>\n",
       "      <td>10.122339</td>\n",
       "      <td>11.810993</td>\n",
       "    </tr>\n",
       "    <tr>\n",
       "      <th>2</th>\n",
       "      <td>9.190236</td>\n",
       "      <td>8.904943</td>\n",
       "    </tr>\n",
       "    <tr>\n",
       "      <th>3</th>\n",
       "      <td>9.306371</td>\n",
       "      <td>9.847394</td>\n",
       "    </tr>\n",
       "    <tr>\n",
       "      <th>4</th>\n",
       "      <td>8.330131</td>\n",
       "      <td>8.340352</td>\n",
       "    </tr>\n",
       "  </tbody>\n",
       "</table>\n",
       "</div>"
      ],
      "text/plain": [
       "           0          1\n",
       "0  10.235186  11.321997\n",
       "1  10.122339  11.810993\n",
       "2   9.190236   8.904943\n",
       "3   9.306371   9.847394\n",
       "4   8.330131   8.340352"
      ]
     },
     "execution_count": 26,
     "metadata": {},
     "output_type": "execute_result"
    }
   ],
   "source": [
    "testSet.head()"
   ]
  },
  {
   "cell_type": "code",
   "execution_count": 27,
   "metadata": {},
   "outputs": [],
   "source": [
    "def pca(dataSet, N=9999999):\n",
    "    meanVals = dataSet.mean(0)                      \n",
    "    meanRemoved = dataSet - meanVals               \n",
    "    covMat = np.mat(np.cov(meanRemoved, rowvar=0))  \n",
    "    eigVals,eigVects = np.linalg.eig(covMat)       \n",
    "    eigValInd = np.argsort(eigVals)                 \n",
    "    eigValInd = eigValInd[:-(N+1):-1]       \n",
    "    redEigVects = eigVects[:,eigValInd]            \n",
    "    lowDDataMat = np.mat(meanRemoved) * redEigVects \n",
    "    reconMat = (lowDDataMat * redEigVects.T) + np.mat(meanVals)\n",
    "    return lowDDataMat, reconMat"
   ]
  },
  {
   "cell_type": "code",
   "execution_count": 28,
   "metadata": {},
   "outputs": [],
   "source": [
    "lowDDataMat, reconMat = pca(testSet, N=1)"
   ]
  },
  {
   "cell_type": "code",
   "execution_count": 30,
   "metadata": {},
   "outputs": [
    {
     "data": {
      "text/plain": [
       "matrix([[-2.51033597],\n",
       "        [-2.86915379],\n",
       "        [ 0.09741085],\n",
       "        [-0.76778222],\n",
       "        [ 1.02715333]])"
      ]
     },
     "execution_count": 30,
     "metadata": {},
     "output_type": "execute_result"
    }
   ],
   "source": [
    "lowDDataMat[:5]"
   ]
  },
  {
   "cell_type": "code",
   "execution_count": 31,
   "metadata": {},
   "outputs": [
    {
     "data": {
      "text/plain": [
       "matrix([[10.37044569, 11.23955536],\n",
       "        [10.55719313, 11.54594665],\n",
       "        [ 9.01323877,  9.01282393],\n",
       "        [ 9.46353019,  9.75160448],\n",
       "        [ 8.52935248,  8.21892524]])"
      ]
     },
     "execution_count": 31,
     "metadata": {},
     "output_type": "execute_result"
    }
   ],
   "source": [
    "reconMat[:5]"
   ]
  },
  {
   "cell_type": "code",
   "execution_count": 32,
   "metadata": {},
   "outputs": [
    {
     "data": {
      "text/plain": [
       "(1000, 2)"
      ]
     },
     "execution_count": 32,
     "metadata": {},
     "output_type": "execute_result"
    }
   ],
   "source": [
    "reconMat.shape"
   ]
  },
  {
   "cell_type": "code",
   "execution_count": 33,
   "metadata": {},
   "outputs": [
    {
     "data": {
      "image/png": "[encoded data removed]",
      "text/plain": [
       "<Figure size 432x288 with 1 Axes>"
      ]
     },
     "metadata": {},
     "output_type": "display_data"
    }
   ],
   "source": [
    "plt.scatter(testSet.iloc[:,0],testSet.iloc[:,1],marker = '.',c='orange')\n",
    "plt.scatter(reconMat[:,0].A.flatten(),reconMat[:,1].A.flatten(), marker='*',c='g');"
   ]
  },
  {
   "cell_type": "code",
   "execution_count": 34,
   "metadata": {},
   "outputs": [],
   "source": [
    "lowDDataMat, reconMat = pca(testSet, N=2)"
   ]
  },
  {
   "cell_type": "code",
   "execution_count": 35,
   "metadata": {},
   "outputs": [
    {
     "data": {
      "text/plain": [
       "matrix([[-2.51033597,  0.15840394],\n",
       "        [-2.86915379,  0.5092619 ],\n",
       "        [ 0.09741085, -0.20728318],\n",
       "        [-0.76778222,  0.18405066],\n",
       "        [ 1.02715333,  0.23331022]])"
      ]
     },
     "execution_count": 35,
     "metadata": {},
     "output_type": "execute_result"
    }
   ],
   "source": [
    "lowDDataMat[:5]"
   ]
  },
  {
   "cell_type": "code",
   "execution_count": 37,
   "metadata": {},
   "outputs": [
    {
     "data": {
      "text/plain": [
       "matrix([[10.235186, 11.321997],\n",
       "        [10.122339, 11.810993],\n",
       "        [ 9.190236,  8.904943],\n",
       "        [ 9.306371,  9.847394],\n",
       "        [ 8.330131,  8.340352]])"
      ]
     },
     "execution_count": 37,
     "metadata": {},
     "output_type": "execute_result"
    }
   ],
   "source": [
    "reconMat[:5]"
   ]
  },
  {
   "cell_type": "code",
   "execution_count": 38,
   "metadata": {},
   "outputs": [
    {
     "data": {
      "image/png": "[encoded data removed]",
      "text/plain": [
       "<Figure size 432x288 with 1 Axes>"
      ]
     },
     "metadata": {},
     "output_type": "display_data"
    }
   ],
   "source": [
    "#将原数据和压缩后的数据放在一张里面：\n",
    "plt.scatter(testSet.iloc[:,0],testSet.iloc[:,1],marker = 'o',c='orange')\n",
    "plt.scatter(reconMat[:,0].A.flatten(),reconMat[:,1].A.flatten(), marker='*',c='b');"
   ]
  },
  {
   "cell_type": "code",
   "execution_count": 39,
   "metadata": {},
   "outputs": [],
   "source": [
    "secom = pd.read_table('secom.data',sep = ' ',header = None)"
   ]
  },
  {
   "cell_type": "code",
   "execution_count": 40,
   "metadata": {},
   "outputs": [
    {
     "data": {
      "text/html": [
       "<div>\n",
       "<style scoped>\n",
       "    .dataframe tbody tr th:only-of-type {\n",
       "        vertical-align: middle;\n",
       "    }\n",
       "\n",
       "    .dataframe tbody tr th {\n",
       "        vertical-align: top;\n",
       "    }\n",
       "\n",
       "    .dataframe thead th {\n",
       "        text-align: right;\n",
       "    }\n",
       "</style>\n",
       "<table border=\"1\" class=\"dataframe\">\n",
       "  <thead>\n",
       "    <tr style=\"text-align: right;\">\n",
       "      <th></th>\n",
       "      <th>0</th>\n",
       "      <th>1</th>\n",
       "      <th>2</th>\n",
       "      <th>3</th>\n",
       "      <th>4</th>\n",
       "      <th>5</th>\n",
       "      <th>6</th>\n",
       "      <th>7</th>\n",
       "      <th>8</th>\n",
       "      <th>9</th>\n",
       "      <th>...</th>\n",
       "      <th>580</th>\n",
       "      <th>581</th>\n",
       "      <th>582</th>\n",
       "      <th>583</th>\n",
       "      <th>584</th>\n",
       "      <th>585</th>\n",
       "      <th>586</th>\n",
       "      <th>587</th>\n",
       "      <th>588</th>\n",
       "      <th>589</th>\n",
       "    </tr>\n",
       "  </thead>\n",
       "  <tbody>\n",
       "    <tr>\n",
       "      <th>0</th>\n",
       "      <td>3030.93</td>\n",
       "      <td>2564.00</td>\n",
       "      <td>2187.7333</td>\n",
       "      <td>1411.1265</td>\n",
       "      <td>1.3602</td>\n",
       "      <td>100.0</td>\n",
       "      <td>97.6133</td>\n",
       "      <td>0.1242</td>\n",
       "      <td>1.5005</td>\n",
       "      <td>0.0162</td>\n",
       "      <td>...</td>\n",
       "      <td>NaN</td>\n",
       "      <td>NaN</td>\n",
       "      <td>0.5005</td>\n",
       "      <td>0.0118</td>\n",
       "      <td>0.0035</td>\n",
       "      <td>2.3630</td>\n",
       "      <td>NaN</td>\n",
       "      <td>NaN</td>\n",
       "      <td>NaN</td>\n",
       "      <td>NaN</td>\n",
       "    </tr>\n",
       "    <tr>\n",
       "      <th>1</th>\n",
       "      <td>3095.78</td>\n",
       "      <td>2465.14</td>\n",
       "      <td>2230.4222</td>\n",
       "      <td>1463.6606</td>\n",
       "      <td>0.8294</td>\n",
       "      <td>100.0</td>\n",
       "      <td>102.3433</td>\n",
       "      <td>0.1247</td>\n",
       "      <td>1.4966</td>\n",
       "      <td>-0.0005</td>\n",
       "      <td>...</td>\n",
       "      <td>0.0060</td>\n",
       "      <td>208.2045</td>\n",
       "      <td>0.5019</td>\n",
       "      <td>0.0223</td>\n",
       "      <td>0.0055</td>\n",
       "      <td>4.4447</td>\n",
       "      <td>0.0096</td>\n",
       "      <td>0.0201</td>\n",
       "      <td>0.0060</td>\n",
       "      <td>208.2045</td>\n",
       "    </tr>\n",
       "    <tr>\n",
       "      <th>2</th>\n",
       "      <td>2932.61</td>\n",
       "      <td>2559.94</td>\n",
       "      <td>2186.4111</td>\n",
       "      <td>1698.0172</td>\n",
       "      <td>1.5102</td>\n",
       "      <td>100.0</td>\n",
       "      <td>95.4878</td>\n",
       "      <td>0.1241</td>\n",
       "      <td>1.4436</td>\n",
       "      <td>0.0041</td>\n",
       "      <td>...</td>\n",
       "      <td>0.0148</td>\n",
       "      <td>82.8602</td>\n",
       "      <td>0.4958</td>\n",
       "      <td>0.0157</td>\n",
       "      <td>0.0039</td>\n",
       "      <td>3.1745</td>\n",
       "      <td>0.0584</td>\n",
       "      <td>0.0484</td>\n",
       "      <td>0.0148</td>\n",
       "      <td>82.8602</td>\n",
       "    </tr>\n",
       "    <tr>\n",
       "      <th>3</th>\n",
       "      <td>2988.72</td>\n",
       "      <td>2479.90</td>\n",
       "      <td>2199.0333</td>\n",
       "      <td>909.7926</td>\n",
       "      <td>1.3204</td>\n",
       "      <td>100.0</td>\n",
       "      <td>104.2367</td>\n",
       "      <td>0.1217</td>\n",
       "      <td>1.4882</td>\n",
       "      <td>-0.0124</td>\n",
       "      <td>...</td>\n",
       "      <td>0.0044</td>\n",
       "      <td>73.8432</td>\n",
       "      <td>0.4990</td>\n",
       "      <td>0.0103</td>\n",
       "      <td>0.0025</td>\n",
       "      <td>2.0544</td>\n",
       "      <td>0.0202</td>\n",
       "      <td>0.0149</td>\n",
       "      <td>0.0044</td>\n",
       "      <td>73.8432</td>\n",
       "    </tr>\n",
       "    <tr>\n",
       "      <th>4</th>\n",
       "      <td>3032.24</td>\n",
       "      <td>2502.87</td>\n",
       "      <td>2233.3667</td>\n",
       "      <td>1326.5200</td>\n",
       "      <td>1.5334</td>\n",
       "      <td>100.0</td>\n",
       "      <td>100.3967</td>\n",
       "      <td>0.1235</td>\n",
       "      <td>1.5031</td>\n",
       "      <td>-0.0031</td>\n",
       "      <td>...</td>\n",
       "      <td>NaN</td>\n",
       "      <td>NaN</td>\n",
       "      <td>0.4800</td>\n",
       "      <td>0.4766</td>\n",
       "      <td>0.1045</td>\n",
       "      <td>99.3032</td>\n",
       "      <td>0.0202</td>\n",
       "      <td>0.0149</td>\n",
       "      <td>0.0044</td>\n",
       "      <td>73.8432</td>\n",
       "    </tr>\n",
       "  </tbody>\n",
       "</table>\n",
       "<p>5 rows × 590 columns</p>\n",
       "</div>"
      ],
      "text/plain": [
       "       0        1          2          3       4      5         6       7    \\\n",
       "0  3030.93  2564.00  2187.7333  1411.1265  1.3602  100.0   97.6133  0.1242   \n",
       "1  3095.78  2465.14  2230.4222  1463.6606  0.8294  100.0  102.3433  0.1247   \n",
       "2  2932.61  2559.94  2186.4111  1698.0172  1.5102  100.0   95.4878  0.1241   \n",
       "3  2988.72  2479.90  2199.0333   909.7926  1.3204  100.0  104.2367  0.1217   \n",
       "4  3032.24  2502.87  2233.3667  1326.5200  1.5334  100.0  100.3967  0.1235   \n",
       "\n",
       "      8       9      ...        580       581     582     583     584  \\\n",
       "0  1.5005  0.0162    ...        NaN       NaN  0.5005  0.0118  0.0035   \n",
       "1  1.4966 -0.0005    ...     0.0060  208.2045  0.5019  0.0223  0.0055   \n",
       "2  1.4436  0.0041    ...     0.0148   82.8602  0.4958  0.0157  0.0039   \n",
       "3  1.4882 -0.0124    ...     0.0044   73.8432  0.4990  0.0103  0.0025   \n",
       "4  1.5031 -0.0031    ...        NaN       NaN  0.4800  0.4766  0.1045   \n",
       "\n",
       "       585     586     587     588       589  \n",
       "0   2.3630     NaN     NaN     NaN       NaN  \n",
       "1   4.4447  0.0096  0.0201  0.0060  208.2045  \n",
       "2   3.1745  0.0584  0.0484  0.0148   82.8602  \n",
       "3   2.0544  0.0202  0.0149  0.0044   73.8432  \n",
       "4  99.3032  0.0202  0.0149  0.0044   73.8432  \n",
       "\n",
       "[5 rows x 590 columns]"
      ]
     },
     "execution_count": 40,
     "metadata": {},
     "output_type": "execute_result"
    }
   ],
   "source": [
    "secom.head()"
   ]
  },
  {
   "cell_type": "code",
   "execution_count": 41,
   "metadata": {},
   "outputs": [
    {
     "data": {
      "text/plain": [
       "(1567, 590)"
      ]
     },
     "execution_count": 41,
     "metadata": {},
     "output_type": "execute_result"
    }
   ],
   "source": [
    "secom.shape"
   ]
  },
  {
   "cell_type": "code",
   "execution_count": 43,
   "metadata": {},
   "outputs": [],
   "source": [
    "secom1=secom.copy()"
   ]
  },
  {
   "cell_type": "code",
   "execution_count": 45,
   "metadata": {},
   "outputs": [
    {
     "data": {
      "text/plain": [
       "0.0038289725590299937"
      ]
     },
     "execution_count": 45,
     "metadata": {},
     "output_type": "execute_result"
    }
   ],
   "source": [
    "np.isnan(secom1.iloc[:,0]).mean()"
   ]
  },
  {
   "cell_type": "code",
   "execution_count": 46,
   "metadata": {},
   "outputs": [
    {
     "name": "stdout",
     "output_type": "stream",
     "text": [
      "第85列的缺失值比例为85.58%\n",
      "第157列的缺失值比例为91.19%\n",
      "第158列的缺失值比例为91.19%\n",
      "第220列的缺失值比例为85.58%\n",
      "第292列的缺失值比例为91.19%\n",
      "第293列的缺失值比例为91.19%\n",
      "第358列的缺失值比例为85.58%\n",
      "第492列的缺失值比例为85.58%\n"
     ]
    }
   ],
   "source": [
    "#1.删除缺失值大于等于80%的特征\n",
    "secom1=secom.copy()\n",
    "nanInd = []\n",
    "for i in range(secom1.shape[1]):\n",
    "    nan = np.isnan(secom1.iloc[:,i]).mean()\n",
    "    if nan*100>=80:\n",
    "        print(f'第{i}列的缺失值比例为{round(nan*100,2)}%')\n",
    "        nanInd.append(i)"
   ]
  },
  {
   "cell_type": "code",
   "execution_count": 47,
   "metadata": {},
   "outputs": [
    {
     "data": {
      "text/plain": [
       "[85, 157, 158, 220, 292, 293, 358, 492]"
      ]
     },
     "execution_count": 47,
     "metadata": {},
     "output_type": "execute_result"
    }
   ],
   "source": [
    "nanInd"
   ]
  },
  {
   "cell_type": "code",
   "execution_count": 48,
   "metadata": {},
   "outputs": [],
   "source": [
    "secom1.drop(secom1.columns[nanInd],axis=1,inplace=True)"
   ]
  },
  {
   "cell_type": "code",
   "execution_count": 49,
   "metadata": {},
   "outputs": [
    {
     "data": {
      "text/plain": [
       "(1567, 582)"
      ]
     },
     "execution_count": 49,
     "metadata": {},
     "output_type": "execute_result"
    }
   ],
   "source": [
    "secom1.shape"
   ]
  },
  {
   "cell_type": "code",
   "execution_count": 50,
   "metadata": {},
   "outputs": [
    {
     "data": {
      "text/plain": [
       "(1567, 582)"
      ]
     },
     "execution_count": 50,
     "metadata": {},
     "output_type": "execute_result"
    }
   ],
   "source": [
    "#查看处理结果\n",
    "secom1.head()\n",
    "secom1.shape"
   ]
  },
  {
   "cell_type": "code",
   "execution_count": 51,
   "metadata": {},
   "outputs": [],
   "source": [
    "#2.缺失值比例小于80%的特征用均值填补缺失值\n",
    "for i in secom1.columns:\n",
    "    secom1[i].fillna(secom1[i].mean(),inplace = True)"
   ]
  },
  {
   "cell_type": "code",
   "execution_count": 53,
   "metadata": {},
   "outputs": [
    {
     "data": {
      "text/html": [
       "<div>\n",
       "<style scoped>\n",
       "    .dataframe tbody tr th:only-of-type {\n",
       "        vertical-align: middle;\n",
       "    }\n",
       "\n",
       "    .dataframe tbody tr th {\n",
       "        vertical-align: top;\n",
       "    }\n",
       "\n",
       "    .dataframe thead th {\n",
       "        text-align: right;\n",
       "    }\n",
       "</style>\n",
       "<table border=\"1\" class=\"dataframe\">\n",
       "  <thead>\n",
       "    <tr style=\"text-align: right;\">\n",
       "      <th></th>\n",
       "      <th>0</th>\n",
       "      <th>1</th>\n",
       "      <th>2</th>\n",
       "      <th>3</th>\n",
       "      <th>4</th>\n",
       "      <th>5</th>\n",
       "      <th>6</th>\n",
       "      <th>7</th>\n",
       "      <th>8</th>\n",
       "      <th>9</th>\n",
       "      <th>...</th>\n",
       "      <th>580</th>\n",
       "      <th>581</th>\n",
       "      <th>582</th>\n",
       "      <th>583</th>\n",
       "      <th>584</th>\n",
       "      <th>585</th>\n",
       "      <th>586</th>\n",
       "      <th>587</th>\n",
       "      <th>588</th>\n",
       "      <th>589</th>\n",
       "    </tr>\n",
       "  </thead>\n",
       "  <tbody>\n",
       "    <tr>\n",
       "      <th>0</th>\n",
       "      <td>3030.93</td>\n",
       "      <td>2564.00</td>\n",
       "      <td>2187.7333</td>\n",
       "      <td>1411.1265</td>\n",
       "      <td>1.3602</td>\n",
       "      <td>100.0</td>\n",
       "      <td>97.6133</td>\n",
       "      <td>0.1242</td>\n",
       "      <td>1.5005</td>\n",
       "      <td>0.0162</td>\n",
       "      <td>...</td>\n",
       "      <td>0.005396</td>\n",
       "      <td>97.934373</td>\n",
       "      <td>0.5005</td>\n",
       "      <td>0.0118</td>\n",
       "      <td>0.0035</td>\n",
       "      <td>2.3630</td>\n",
       "      <td>0.021458</td>\n",
       "      <td>0.016475</td>\n",
       "      <td>0.005283</td>\n",
       "      <td>99.670066</td>\n",
       "    </tr>\n",
       "    <tr>\n",
       "      <th>1</th>\n",
       "      <td>3095.78</td>\n",
       "      <td>2465.14</td>\n",
       "      <td>2230.4222</td>\n",
       "      <td>1463.6606</td>\n",
       "      <td>0.8294</td>\n",
       "      <td>100.0</td>\n",
       "      <td>102.3433</td>\n",
       "      <td>0.1247</td>\n",
       "      <td>1.4966</td>\n",
       "      <td>-0.0005</td>\n",
       "      <td>...</td>\n",
       "      <td>0.006000</td>\n",
       "      <td>208.204500</td>\n",
       "      <td>0.5019</td>\n",
       "      <td>0.0223</td>\n",
       "      <td>0.0055</td>\n",
       "      <td>4.4447</td>\n",
       "      <td>0.009600</td>\n",
       "      <td>0.020100</td>\n",
       "      <td>0.006000</td>\n",
       "      <td>208.204500</td>\n",
       "    </tr>\n",
       "    <tr>\n",
       "      <th>2</th>\n",
       "      <td>2932.61</td>\n",
       "      <td>2559.94</td>\n",
       "      <td>2186.4111</td>\n",
       "      <td>1698.0172</td>\n",
       "      <td>1.5102</td>\n",
       "      <td>100.0</td>\n",
       "      <td>95.4878</td>\n",
       "      <td>0.1241</td>\n",
       "      <td>1.4436</td>\n",
       "      <td>0.0041</td>\n",
       "      <td>...</td>\n",
       "      <td>0.014800</td>\n",
       "      <td>82.860200</td>\n",
       "      <td>0.4958</td>\n",
       "      <td>0.0157</td>\n",
       "      <td>0.0039</td>\n",
       "      <td>3.1745</td>\n",
       "      <td>0.058400</td>\n",
       "      <td>0.048400</td>\n",
       "      <td>0.014800</td>\n",
       "      <td>82.860200</td>\n",
       "    </tr>\n",
       "    <tr>\n",
       "      <th>3</th>\n",
       "      <td>2988.72</td>\n",
       "      <td>2479.90</td>\n",
       "      <td>2199.0333</td>\n",
       "      <td>909.7926</td>\n",
       "      <td>1.3204</td>\n",
       "      <td>100.0</td>\n",
       "      <td>104.2367</td>\n",
       "      <td>0.1217</td>\n",
       "      <td>1.4882</td>\n",
       "      <td>-0.0124</td>\n",
       "      <td>...</td>\n",
       "      <td>0.004400</td>\n",
       "      <td>73.843200</td>\n",
       "      <td>0.4990</td>\n",
       "      <td>0.0103</td>\n",
       "      <td>0.0025</td>\n",
       "      <td>2.0544</td>\n",
       "      <td>0.020200</td>\n",
       "      <td>0.014900</td>\n",
       "      <td>0.004400</td>\n",
       "      <td>73.843200</td>\n",
       "    </tr>\n",
       "    <tr>\n",
       "      <th>4</th>\n",
       "      <td>3032.24</td>\n",
       "      <td>2502.87</td>\n",
       "      <td>2233.3667</td>\n",
       "      <td>1326.5200</td>\n",
       "      <td>1.5334</td>\n",
       "      <td>100.0</td>\n",
       "      <td>100.3967</td>\n",
       "      <td>0.1235</td>\n",
       "      <td>1.5031</td>\n",
       "      <td>-0.0031</td>\n",
       "      <td>...</td>\n",
       "      <td>0.005396</td>\n",
       "      <td>97.934373</td>\n",
       "      <td>0.4800</td>\n",
       "      <td>0.4766</td>\n",
       "      <td>0.1045</td>\n",
       "      <td>99.3032</td>\n",
       "      <td>0.020200</td>\n",
       "      <td>0.014900</td>\n",
       "      <td>0.004400</td>\n",
       "      <td>73.843200</td>\n",
       "    </tr>\n",
       "  </tbody>\n",
       "</table>\n",
       "<p>5 rows × 582 columns</p>\n",
       "</div>"
      ],
      "text/plain": [
       "       0        1          2          3       4      5         6       7    \\\n",
       "0  3030.93  2564.00  2187.7333  1411.1265  1.3602  100.0   97.6133  0.1242   \n",
       "1  3095.78  2465.14  2230.4222  1463.6606  0.8294  100.0  102.3433  0.1247   \n",
       "2  2932.61  2559.94  2186.4111  1698.0172  1.5102  100.0   95.4878  0.1241   \n",
       "3  2988.72  2479.90  2199.0333   909.7926  1.3204  100.0  104.2367  0.1217   \n",
       "4  3032.24  2502.87  2233.3667  1326.5200  1.5334  100.0  100.3967  0.1235   \n",
       "\n",
       "      8       9       ...           580         581     582     583     584  \\\n",
       "0  1.5005  0.0162     ...      0.005396   97.934373  0.5005  0.0118  0.0035   \n",
       "1  1.4966 -0.0005     ...      0.006000  208.204500  0.5019  0.0223  0.0055   \n",
       "2  1.4436  0.0041     ...      0.014800   82.860200  0.4958  0.0157  0.0039   \n",
       "3  1.4882 -0.0124     ...      0.004400   73.843200  0.4990  0.0103  0.0025   \n",
       "4  1.5031 -0.0031     ...      0.005396   97.934373  0.4800  0.4766  0.1045   \n",
       "\n",
       "       585       586       587       588         589  \n",
       "0   2.3630  0.021458  0.016475  0.005283   99.670066  \n",
       "1   4.4447  0.009600  0.020100  0.006000  208.204500  \n",
       "2   3.1745  0.058400  0.048400  0.014800   82.860200  \n",
       "3   2.0544  0.020200  0.014900  0.004400   73.843200  \n",
       "4  99.3032  0.020200  0.014900  0.004400   73.843200  \n",
       "\n",
       "[5 rows x 582 columns]"
      ]
     },
     "execution_count": 53,
     "metadata": {},
     "output_type": "execute_result"
    }
   ],
   "source": [
    "secom1.head()"
   ]
  },
  {
   "cell_type": "code",
   "execution_count": 56,
   "metadata": {},
   "outputs": [
    {
     "data": {
      "text/plain": [
       "0    582\n",
       "dtype: int64"
      ]
     },
     "execution_count": 56,
     "metadata": {},
     "output_type": "execute_result"
    }
   ],
   "source": [
    "(secom1.isnull()).sum().value_counts()"
   ]
  },
  {
   "cell_type": "code",
   "execution_count": 59,
   "metadata": {},
   "outputs": [
    {
     "data": {
      "text/plain": [
       "0    3014.452896\n",
       "1    2495.850231\n",
       "2    2200.547318\n",
       "3    1396.376627\n",
       "4       4.197013\n",
       "dtype: float64"
      ]
     },
     "execution_count": 59,
     "metadata": {},
     "output_type": "execute_result"
    }
   ],
   "source": [
    "#计算均值\n",
    "meanVals = secom1.mean()\n",
    "meanVals[:5]"
   ]
  },
  {
   "cell_type": "code",
   "execution_count": 61,
   "metadata": {},
   "outputs": [
    {
     "data": {
      "text/html": [
       "<div>\n",
       "<style scoped>\n",
       "    .dataframe tbody tr th:only-of-type {\n",
       "        vertical-align: middle;\n",
       "    }\n",
       "\n",
       "    .dataframe tbody tr th {\n",
       "        vertical-align: top;\n",
       "    }\n",
       "\n",
       "    .dataframe thead th {\n",
       "        text-align: right;\n",
       "    }\n",
       "</style>\n",
       "<table border=\"1\" class=\"dataframe\">\n",
       "  <thead>\n",
       "    <tr style=\"text-align: right;\">\n",
       "      <th></th>\n",
       "      <th>0</th>\n",
       "      <th>1</th>\n",
       "      <th>2</th>\n",
       "      <th>3</th>\n",
       "      <th>4</th>\n",
       "      <th>5</th>\n",
       "      <th>6</th>\n",
       "      <th>7</th>\n",
       "      <th>8</th>\n",
       "      <th>9</th>\n",
       "      <th>...</th>\n",
       "      <th>580</th>\n",
       "      <th>581</th>\n",
       "      <th>582</th>\n",
       "      <th>583</th>\n",
       "      <th>584</th>\n",
       "      <th>585</th>\n",
       "      <th>586</th>\n",
       "      <th>587</th>\n",
       "      <th>588</th>\n",
       "      <th>589</th>\n",
       "    </tr>\n",
       "  </thead>\n",
       "  <tbody>\n",
       "    <tr>\n",
       "      <th>0</th>\n",
       "      <td>16.477104</td>\n",
       "      <td>68.149769</td>\n",
       "      <td>-12.814018</td>\n",
       "      <td>14.749873</td>\n",
       "      <td>-2.836813</td>\n",
       "      <td>0.0</td>\n",
       "      <td>-3.499608</td>\n",
       "      <td>0.002378</td>\n",
       "      <td>0.037638</td>\n",
       "      <td>0.017041</td>\n",
       "      <td>...</td>\n",
       "      <td>-1.058181e-16</td>\n",
       "      <td>-2.387424e-12</td>\n",
       "      <td>0.000404</td>\n",
       "      <td>-0.003518</td>\n",
       "      <td>-0.000347</td>\n",
       "      <td>-0.704826</td>\n",
       "      <td>0.000000</td>\n",
       "      <td>3.469447e-18</td>\n",
       "      <td>8.673617e-19</td>\n",
       "      <td>-1.421085e-14</td>\n",
       "    </tr>\n",
       "    <tr>\n",
       "      <th>1</th>\n",
       "      <td>81.327104</td>\n",
       "      <td>-30.710231</td>\n",
       "      <td>29.874882</td>\n",
       "      <td>67.283973</td>\n",
       "      <td>-3.367613</td>\n",
       "      <td>0.0</td>\n",
       "      <td>1.230392</td>\n",
       "      <td>0.002878</td>\n",
       "      <td>0.033738</td>\n",
       "      <td>0.000341</td>\n",
       "      <td>...</td>\n",
       "      <td>6.040453e-04</td>\n",
       "      <td>1.102701e+02</td>\n",
       "      <td>0.001804</td>\n",
       "      <td>0.006982</td>\n",
       "      <td>0.001653</td>\n",
       "      <td>1.376874</td>\n",
       "      <td>-0.011858</td>\n",
       "      <td>3.625096e-03</td>\n",
       "      <td>7.166667e-04</td>\n",
       "      <td>1.085344e+02</td>\n",
       "    </tr>\n",
       "    <tr>\n",
       "      <th>2</th>\n",
       "      <td>-81.842896</td>\n",
       "      <td>64.089769</td>\n",
       "      <td>-14.136218</td>\n",
       "      <td>301.640573</td>\n",
       "      <td>-2.686813</td>\n",
       "      <td>0.0</td>\n",
       "      <td>-5.625108</td>\n",
       "      <td>0.002278</td>\n",
       "      <td>-0.019262</td>\n",
       "      <td>0.004941</td>\n",
       "      <td>...</td>\n",
       "      <td>9.404045e-03</td>\n",
       "      <td>-1.507417e+01</td>\n",
       "      <td>-0.004296</td>\n",
       "      <td>0.000382</td>\n",
       "      <td>0.000053</td>\n",
       "      <td>0.106674</td>\n",
       "      <td>0.036942</td>\n",
       "      <td>3.192510e-02</td>\n",
       "      <td>9.516667e-03</td>\n",
       "      <td>-1.680987e+01</td>\n",
       "    </tr>\n",
       "  </tbody>\n",
       "</table>\n",
       "<p>3 rows × 582 columns</p>\n",
       "</div>"
      ],
      "text/plain": [
       "         0          1          2           3         4    5         6    \\\n",
       "0  16.477104  68.149769 -12.814018   14.749873 -2.836813  0.0 -3.499608   \n",
       "1  81.327104 -30.710231  29.874882   67.283973 -3.367613  0.0  1.230392   \n",
       "2 -81.842896  64.089769 -14.136218  301.640573 -2.686813  0.0 -5.625108   \n",
       "\n",
       "        7         8         9        ...                580           581  \\\n",
       "0  0.002378  0.037638  0.017041      ...      -1.058181e-16 -2.387424e-12   \n",
       "1  0.002878  0.033738  0.000341      ...       6.040453e-04  1.102701e+02   \n",
       "2  0.002278 -0.019262  0.004941      ...       9.404045e-03 -1.507417e+01   \n",
       "\n",
       "        582       583       584       585       586           587  \\\n",
       "0  0.000404 -0.003518 -0.000347 -0.704826  0.000000  3.469447e-18   \n",
       "1  0.001804  0.006982  0.001653  1.376874 -0.011858  3.625096e-03   \n",
       "2 -0.004296  0.000382  0.000053  0.106674  0.036942  3.192510e-02   \n",
       "\n",
       "            588           589  \n",
       "0  8.673617e-19 -1.421085e-14  \n",
       "1  7.166667e-04  1.085344e+02  \n",
       "2  9.516667e-03 -1.680987e+01  \n",
       "\n",
       "[3 rows x 582 columns]"
      ]
     },
     "execution_count": 61,
     "metadata": {},
     "output_type": "execute_result"
    }
   ],
   "source": [
    "#去均值化\n",
    "meanRemoved = secom1 - meanVals\n",
    "meanRemoved.head(3)"
   ]
  },
  {
   "cell_type": "code",
   "execution_count": 62,
   "metadata": {},
   "outputs": [
    {
     "data": {
      "text/plain": [
       "(582, 582)"
      ]
     },
     "execution_count": 62,
     "metadata": {},
     "output_type": "execute_result"
    }
   ],
   "source": [
    "#计算协方差\n",
    "covMat = np.mat(np.cov(meanRemoved, rowvar=0))\n",
    "covMat\n",
    "covMat.shape"
   ]
  },
  {
   "cell_type": "code",
   "execution_count": 63,
   "metadata": {},
   "outputs": [],
   "source": [
    "#计算特征值和特征向量\n",
    "eigVals,eigVects = np.linalg.eig(covMat)"
   ]
  },
  {
   "cell_type": "code",
   "execution_count": 64,
   "metadata": {},
   "outputs": [
    {
     "data": {
      "text/plain": [
       "(582, 582)"
      ]
     },
     "execution_count": 64,
     "metadata": {},
     "output_type": "execute_result"
    }
   ],
   "source": [
    "eigVects.shape"
   ]
  },
  {
   "cell_type": "code",
   "execution_count": 65,
   "metadata": {},
   "outputs": [
    {
     "data": {
      "text/plain": [
       "(582,)"
      ]
     },
     "execution_count": 65,
     "metadata": {},
     "output_type": "execute_result"
    }
   ],
   "source": [
    "eigVals.shape"
   ]
  },
  {
   "cell_type": "code",
   "execution_count": 66,
   "metadata": {},
   "outputs": [
    {
     "data": {
      "text/plain": [
       "array([ 5.34151972e+07+0.0000000e+00j,  2.17466556e+07+0.0000000e+00j,\n",
       "        8.24837561e+06+0.0000000e+00j,  2.07388058e+06+0.0000000e+00j,\n",
       "        1.31540428e+06+0.0000000e+00j,  4.67693551e+05+0.0000000e+00j,\n",
       "        2.90860405e+05+0.0000000e+00j,  2.83664812e+05+0.0000000e+00j,\n",
       "        2.37149524e+05+0.0000000e+00j,  2.07805581e+05+0.0000000e+00j,\n",
       "        1.96098844e+05+0.0000000e+00j,  1.86349221e+05+0.0000000e+00j,\n",
       "        1.52398976e+05+0.0000000e+00j,  1.13196837e+05+0.0000000e+00j,\n",
       "        1.08492589e+05+0.0000000e+00j,  1.02844712e+05+0.0000000e+00j,\n",
       "        1.00165252e+05+0.0000000e+00j,  8.33270443e+04+0.0000000e+00j,\n",
       "        8.15567136e+04+0.0000000e+00j,  7.76364705e+04+0.0000000e+00j,\n",
       "        6.66003172e+04+0.0000000e+00j,  6.52615994e+04+0.0000000e+00j,\n",
       "        5.96387189e+04+0.0000000e+00j,  5.16264961e+04+0.0000000e+00j,\n",
       "        5.03258211e+04+0.0000000e+00j,  4.54574274e+04+0.0000000e+00j,\n",
       "        4.41913334e+04+0.0000000e+00j,  4.15467249e+04+0.0000000e+00j,\n",
       "        3.55280011e+04+0.0000000e+00j,  3.31294098e+04+0.0000000e+00j,\n",
       "        2.67140610e+04+0.0000000e+00j,  1.44179696e+04+0.0000000e+00j,\n",
       "        1.09418719e+04+0.0000000e+00j,  1.05210179e+04+0.0000000e+00j,\n",
       "        9.54367507e+03+0.0000000e+00j,  8.34711580e+03+0.0000000e+00j,\n",
       "        7.22865666e+03+0.0000000e+00j,  5.34394935e+03+0.0000000e+00j,\n",
       "        4.95614718e+03+0.0000000e+00j,  4.23446451e+03+0.0000000e+00j,\n",
       "        4.11684928e+03+0.0000000e+00j,  3.41562711e+03+0.0000000e+00j,\n",
       "        3.24257912e+03+0.0000000e+00j,  2.74514312e+03+0.0000000e+00j,\n",
       "        2.34949019e+03+0.0000000e+00j,  2.16840506e+03+0.0000000e+00j,\n",
       "        1.86587784e+03+0.0000000e+00j,  1.76719885e+03+0.0000000e+00j,\n",
       "        1.70494788e+03+0.0000000e+00j,  1.66233855e+03+0.0000000e+00j,\n",
       "        1.53949903e+03+0.0000000e+00j,  1.33097707e+03+0.0000000e+00j,\n",
       "        1.25804286e+03+0.0000000e+00j,  1.15375180e+03+0.0000000e+00j,\n",
       "        1.12316938e+03+0.0000000e+00j,  1.03212560e+03+0.0000000e+00j,\n",
       "        1.00988222e+03+0.0000000e+00j,  9.50508611e+02+0.0000000e+00j,\n",
       "        9.10661130e+02+0.0000000e+00j,  8.33111483e+02+0.0000000e+00j,\n",
       "        8.09834854e+02+0.0000000e+00j,  7.39181415e+02+0.0000000e+00j,\n",
       "        6.87609268e+02+0.0000000e+00j,  5.64459227e+02+0.0000000e+00j,\n",
       "        5.51835124e+02+0.0000000e+00j,  5.37460302e+02+0.0000000e+00j,\n",
       "        4.93732917e+02+0.0000000e+00j,  4.14439826e+02+0.0000000e+00j,\n",
       "        3.90677979e+02+0.0000000e+00j,  3.37351267e+02+0.0000000e+00j,\n",
       "        3.27553501e+02+0.0000000e+00j,  3.10276676e+02+0.0000000e+00j,\n",
       "        2.46441144e+02+0.0000000e+00j,  2.28894785e+02+0.0000000e+00j,\n",
       "        1.96838627e+02+0.0000000e+00j,  1.75456760e+02+0.0000000e+00j,\n",
       "        1.65667726e+02+0.0000000e+00j,  1.56428835e+02+0.0000000e+00j,\n",
       "        1.39633409e+02+0.0000000e+00j,  1.28831288e+02+0.0000000e+00j,\n",
       "        1.15604246e+02+0.0000000e+00j,  1.09981429e+02+0.0000000e+00j,\n",
       "        1.08522567e+02+0.0000000e+00j,  9.82089507e+01+0.0000000e+00j,\n",
       "        8.40036501e+01+0.0000000e+00j,  7.56771955e+01+0.0000000e+00j,\n",
       "        6.92440933e+01+0.0000000e+00j,  6.72678358e+01+0.0000000e+00j,\n",
       "        6.10185866e+01+0.0000000e+00j,  5.31285871e+01+0.0000000e+00j,\n",
       "        4.72605826e+01+0.0000000e+00j,  4.52048567e+01+0.0000000e+00j,\n",
       "        4.41971139e+01+0.0000000e+00j,  4.03431104e+01+0.0000000e+00j,\n",
       "        3.96502142e+01+0.0000000e+00j,  3.74153269e+01+0.0000000e+00j,\n",
       "        3.44900647e+01+0.0000000e+00j,  3.30190556e+01+0.0000000e+00j,\n",
       "        3.03328644e+01+0.0000000e+00j,  2.89212045e+01+0.0000000e+00j,\n",
       "        2.76595405e+01+0.0000000e+00j,  2.57884415e+01+0.0000000e+00j,\n",
       "        2.45903609e+01+0.0000000e+00j,  2.31844023e+01+0.0000000e+00j,\n",
       "        2.26978350e+01+0.0000000e+00j,  2.17259089e+01+0.0000000e+00j,\n",
       "        2.10336891e+01+0.0000000e+00j,  2.01200826e+01+0.0000000e+00j,\n",
       "        1.86573703e+01+0.0000000e+00j,  1.83981747e+01+0.0000000e+00j,\n",
       "        1.72525841e+01+0.0000000e+00j,  1.60623773e+01+0.0000000e+00j,\n",
       "        1.55193214e+01+0.0000000e+00j,  1.48418345e+01+0.0000000e+00j,\n",
       "        1.44501977e+01+0.0000000e+00j,  1.42807484e+01+0.0000000e+00j,\n",
       "        1.35789448e+01+0.0000000e+00j,  1.28419241e+01+0.0000000e+00j,\n",
       "        1.30803214e+01+0.0000000e+00j,  1.22130898e+01+0.0000000e+00j,\n",
       "        1.15241453e+01+0.0000000e+00j,  1.12193491e+01+0.0000000e+00j,\n",
       "        1.02604860e+01+0.0000000e+00j,  9.87850987e+00+0.0000000e+00j,\n",
       "        9.60089517e+00+0.0000000e+00j,  9.45320986e+00+0.0000000e+00j,\n",
       "        9.25834790e+00+0.0000000e+00j,  8.68362848e+00+0.0000000e+00j,\n",
       "        8.22567915e+00+0.0000000e+00j,  8.01365775e+00+0.0000000e+00j,\n",
       "        7.55442595e+00+0.0000000e+00j,  7.37273776e+00+0.0000000e+00j,\n",
       "        7.10011803e+00+0.0000000e+00j,  7.02329251e+00+0.0000000e+00j,\n",
       "        6.76573831e+00+0.0000000e+00j,  6.34926588e+00+0.0000000e+00j,\n",
       "        6.02027531e+00+0.0000000e+00j,  5.81936706e+00+0.0000000e+00j,\n",
       "        5.45069182e+00+0.0000000e+00j,  5.13562876e+00+0.0000000e+00j,\n",
       "        4.81549886e+00+0.0000000e+00j,  4.51791508e+00+0.0000000e+00j,\n",
       "        4.48037894e+00+0.0000000e+00j,  4.27570050e+00+0.0000000e+00j,\n",
       "        3.94434538e+00+0.0000000e+00j,  3.60257460e+00+0.0000000e+00j,\n",
       "        3.32296521e+00+0.0000000e+00j,  2.98322420e+00+0.0000000e+00j,\n",
       "        2.61564475e+00+0.0000000e+00j,  2.31525273e+00+0.0000000e+00j,\n",
       "        2.17240894e+00+0.0000000e+00j,  1.99275483e+00+0.0000000e+00j,\n",
       "        1.95717454e+00+0.0000000e+00j,  1.88283838e+00+0.0000000e+00j,\n",
       "        1.78889973e+00+0.0000000e+00j,  1.71011562e+00+0.0000000e+00j,\n",
       "        1.67984791e+00+0.0000000e+00j,  1.57634764e+00+0.0000000e+00j,\n",
       "        1.46040908e+00+0.0000000e+00j,  1.38788718e+00+0.0000000e+00j,\n",
       "        1.36979403e+00+0.0000000e+00j,  1.24900702e+00+0.0000000e+00j,\n",
       "        1.22839731e+00+0.0000000e+00j,  1.18319716e+00+0.0000000e+00j,\n",
       "        9.17325540e-01+0.0000000e+00j,  9.38766928e-01+0.0000000e+00j,\n",
       "        8.23997571e-01+0.0000000e+00j,  7.96851608e-01+0.0000000e+00j,\n",
       "        7.74675538e-01+0.0000000e+00j,  7.14200722e-01+0.0000000e+00j,\n",
       "        6.80387036e-01+0.0000000e+00j,  6.39270856e-01+0.0000000e+00j,\n",
       "        6.25322477e-01+0.0000000e+00j,  5.34554129e-01+0.0000000e+00j,\n",
       "        4.58677208e-01+0.0000000e+00j,  4.24990378e-01+0.0000000e+00j,\n",
       "        4.08736334e-01+0.0000000e+00j,  3.71226927e-01+0.0000000e+00j,\n",
       "        3.66915017e-01+0.0000000e+00j,  3.34038379e-01+0.0000000e+00j,\n",
       "        3.29910252e-01+0.0000000e+00j,  2.91459366e-01+0.0000000e+00j,\n",
       "        2.82058110e-01+0.0000000e+00j,  2.73103645e-01+0.0000000e+00j,\n",
       "        2.62334182e-01+0.0000000e+00j,  2.27212055e-01+0.0000000e+00j,\n",
       "        2.24015314e-01+0.0000000e+00j,  2.17875676e-01+0.0000000e+00j,\n",
       "        1.94572796e-01+0.0000000e+00j,  1.92810137e-01+0.0000000e+00j,\n",
       "        1.84147814e-01+0.0000000e+00j,  1.82842833e-01+0.0000000e+00j,\n",
       "        1.65878273e-01+0.0000000e+00j,  1.57821496e-01+0.0000000e+00j,\n",
       "        1.51635954e-01+0.0000000e+00j,  1.39860988e-01+0.0000000e+00j,\n",
       "        1.33339352e-01+0.0000000e+00j,  1.28106855e-01+0.0000000e+00j,\n",
       "        1.13594667e-01+0.0000000e+00j,  1.12878305e-01+0.0000000e+00j,\n",
       "        1.09139113e-01+0.0000000e+00j,  1.07237145e-01+0.0000000e+00j,\n",
       "        8.64526751e-02+0.0000000e+00j,  8.51163792e-02+0.0000000e+00j,\n",
       "        8.34060222e-02+0.0000000e+00j,  7.03969097e-02+0.0000000e+00j,\n",
       "        6.44499301e-02+0.0000000e+00j,  6.10597874e-02+0.0000000e+00j,\n",
       "        6.08684491e-02+0.0000000e+00j,  5.94408737e-02+0.0000000e+00j,\n",
       "        5.24456843e-02+0.0000000e+00j,  4.93360372e-02+0.0000000e+00j,\n",
       "        4.81826217e-02+0.0000000e+00j,  4.53022382e-02+0.0000000e+00j,\n",
       "        4.30703090e-02+0.0000000e+00j,  4.14218864e-02+0.0000000e+00j,\n",
       "        4.04222247e-02+0.0000000e+00j,  3.91909100e-02+0.0000000e+00j,\n",
       "        3.54505190e-02+0.0000000e+00j,  3.34119616e-02+0.0000000e+00j,\n",
       "        3.14935303e-02+0.0000000e+00j,  3.08720173e-02+0.0000000e+00j,\n",
       "        2.99268907e-02+0.0000000e+00j,  2.82593760e-02+0.0000000e+00j,\n",
       "        2.49520863e-02+0.0000000e+00j,  2.36956104e-02+0.0000000e+00j,\n",
       "        2.28770047e-02+0.0000000e+00j,  2.19865658e-02+0.0000000e+00j,\n",
       "        2.00450839e-02+0.0000000e+00j,  1.87624987e-02+0.0000000e+00j,\n",
       "        1.80773555e-02+0.0000000e+00j,  1.72587054e-02+0.0000000e+00j,\n",
       "        1.60927227e-02+0.0000000e+00j,  1.49766986e-02+0.0000000e+00j,\n",
       "        1.40387468e-02+0.0000000e+00j,  1.31675252e-02+0.0000000e+00j,\n",
       "        1.21567954e-02+0.0000000e+00j,  1.07577637e-02+0.0000000e+00j,\n",
       "        1.01519338e-02+0.0000000e+00j,  9.76181394e-03+0.0000000e+00j,\n",
       "        9.18376100e-03+0.0000000e+00j,  8.80502137e-03+0.0000000e+00j,\n",
       "        8.74035441e-03+0.0000000e+00j,  8.32118357e-03+0.0000000e+00j,\n",
       "        8.05964176e-03+0.0000000e+00j,  7.57175793e-03+0.0000000e+00j,\n",
       "        7.33279672e-03+0.0000000e+00j,  7.26990806e-03+0.0000000e+00j,\n",
       "        6.67452839e-03+0.0000000e+00j,  6.51017959e-03+0.0000000e+00j,\n",
       "        6.29376821e-03+0.0000000e+00j,  6.20092763e-03+0.0000000e+00j,\n",
       "        5.65016053e-03+0.0000000e+00j,  5.30524373e-03+0.0000000e+00j,\n",
       "        5.07891773e-03+0.0000000e+00j,  4.47922790e-03+0.0000000e+00j,\n",
       "        4.33939678e-03+0.0000000e+00j,  4.23482451e-03+0.0000000e+00j,\n",
       "        4.01801571e-03+0.0000000e+00j,  3.76573932e-03+0.0000000e+00j,\n",
       "        3.66646642e-03+0.0000000e+00j,  3.38977797e-03+0.0000000e+00j,\n",
       "        3.28333889e-03+0.0000000e+00j,  3.07633309e-03+0.0000000e+00j,\n",
       "        3.00170495e-03+0.0000000e+00j,  2.83866260e-03+0.0000000e+00j,\n",
       "        2.75083403e-03+0.0000000e+00j,  2.31555767e-03+0.0000000e+00j,\n",
       "        2.28027344e-03+0.0000000e+00j,  1.82341612e-03+0.0000000e+00j,\n",
       "        1.75652980e-03+0.0000000e+00j,  1.69449350e-03+0.0000000e+00j,\n",
       "        1.66825382e-03+0.0000000e+00j,  1.55416260e-03+0.0000000e+00j,\n",
       "        1.51704958e-03+0.0000000e+00j,  1.47569179e-03+0.0000000e+00j,\n",
       "        1.33691351e-03+0.0000000e+00j,  1.30914559e-03+0.0000000e+00j,\n",
       "        1.24371001e-03+0.0000000e+00j,  1.19937966e-03+0.0000000e+00j,\n",
       "        1.14562439e-03+0.0000000e+00j,  1.13305948e-03+0.0000000e+00j,\n",
       "        1.11373191e-03+0.0000000e+00j,  1.08350551e-03+0.0000000e+00j,\n",
       "        1.03531349e-03+0.0000000e+00j,  1.00286714e-03+0.0000000e+00j,\n",
       "        9.56984994e-04+0.0000000e+00j,  8.99122321e-04+0.0000000e+00j,\n",
       "        8.76156686e-04+0.0000000e+00j,  8.00448167e-04+0.0000000e+00j,\n",
       "        7.51944169e-04+0.0000000e+00j,  6.65518215e-04+0.0000000e+00j,\n",
       "        6.23904660e-04+0.0000000e+00j,  6.18536978e-04+0.0000000e+00j,\n",
       "        5.73640249e-04+0.0000000e+00j,  5.58255699e-04+0.0000000e+00j,\n",
       "        5.50391807e-04+0.0000000e+00j,  5.27789649e-04+0.0000000e+00j,\n",
       "        5.13125180e-04+0.0000000e+00j,  4.89447666e-04+0.0000000e+00j,\n",
       "        4.74236974e-04+0.0000000e+00j,  4.52954859e-04+0.0000000e+00j,\n",
       "        4.27251528e-04+0.0000000e+00j,  4.20320243e-04+0.0000000e+00j,\n",
       "        3.73132724e-04+0.0000000e+00j,  3.38576685e-04+0.0000000e+00j,\n",
       "        3.34272717e-04+0.0000000e+00j,  2.98163319e-04+0.0000000e+00j,\n",
       "        2.85695238e-04+0.0000000e+00j,  2.79729468e-04+0.0000000e+00j,\n",
       "        2.76237087e-04+0.0000000e+00j,  2.55064052e-04+0.0000000e+00j,\n",
       "        2.67725626e-04+0.0000000e+00j,  2.29298811e-04+0.0000000e+00j,\n",
       "        1.99359622e-04+0.0000000e+00j,  1.89845337e-04+0.0000000e+00j,\n",
       "        1.84144887e-04+0.0000000e+00j,  1.77178727e-04+0.0000000e+00j,\n",
       "        1.68282002e-04+0.0000000e+00j,  1.63887476e-04+0.0000000e+00j,\n",
       "        1.57567296e-04+0.0000000e+00j,  1.54724158e-04+0.0000000e+00j,\n",
       "        1.21881660e-04+0.0000000e+00j,  1.34481285e-04+0.0000000e+00j,\n",
       "        1.40159212e-04+0.0000000e+00j,  1.46738722e-04+0.0000000e+00j,\n",
       "        1.44158273e-04+0.0000000e+00j,  1.15567207e-04+0.0000000e+00j,\n",
       "        1.05486154e-04+0.0000000e+00j,  1.01442788e-04+0.0000000e+00j,\n",
       "        9.71046667e-05+0.0000000e+00j,  9.58045486e-05+0.0000000e+00j,\n",
       "        9.65941300e-05+0.0000000e+00j,  9.08603212e-05+0.0000000e+00j,\n",
       "        8.97277488e-05+0.0000000e+00j,  8.41770120e-05+0.0000000e+00j,\n",
       "        8.09604120e-05+0.0000000e+00j,  7.52981133e-05+0.0000000e+00j,\n",
       "        7.35321505e-05+0.0000000e+00j,  7.32712881e-05+0.0000000e+00j,\n",
       "        6.70948621e-05+0.0000000e+00j,  6.16039058e-05+0.0000000e+00j,\n",
       "        6.00998674e-05+0.0000000e+00j,  5.53361113e-05+0.0000000e+00j,\n",
       "        5.29016521e-05+0.0000000e+00j,  5.19887421e-05+0.0000000e+00j,\n",
       "        5.02897086e-05+0.0000000e+00j,  4.90706489e-05+0.0000000e+00j,\n",
       "        4.53491641e-05+0.0000000e+00j,  4.31380410e-05+0.0000000e+00j,\n",
       "        4.20080550e-05+0.0000000e+00j,  4.15028792e-05+0.0000000e+00j,\n",
       "        3.96669415e-05+0.0000000e+00j,  3.83340518e-05+0.0000000e+00j,\n",
       "        3.59773267e-05+0.0000000e+00j,  3.44531123e-05+0.0000000e+00j,\n",
       "        2.99250829e-05+0.0000000e+00j,  2.74010195e-05+0.0000000e+00j,\n",
       "        2.44651394e-05+0.0000000e+00j,  2.31533167e-05+0.0000000e+00j,\n",
       "        2.28154582e-05+0.0000000e+00j,  2.15620999e-05+0.0000000e+00j,\n",
       "        1.96387332e-05+0.0000000e+00j,  1.88825206e-05+0.0000000e+00j,\n",
       "        1.91856330e-05+0.0000000e+00j,  1.67025167e-05+0.0000000e+00j,\n",
       "        1.47403177e-05+0.0000000e+00j,  1.44062023e-05+0.0000000e+00j,\n",
       "        1.40089538e-05+0.0000000e+00j,  1.22589963e-05+0.0000000e+00j,\n",
       "        1.20567144e-05+0.0000000e+00j,  1.13426297e-05+0.0000000e+00j,\n",
       "        1.09355500e-05+0.0000000e+00j,  1.03739971e-05+0.0000000e+00j,\n",
       "        1.01285114e-05+0.0000000e+00j,  9.73377716e-06+0.0000000e+00j,\n",
       "        9.66314391e-06+0.0000000e+00j,  9.27064163e-06+0.0000000e+00j,\n",
       "        8.99924886e-06+0.0000000e+00j,  8.34829727e-06+0.0000000e+00j,\n",
       "        7.40267871e-06+0.0000000e+00j,  7.23662018e-06+0.0000000e+00j,\n",
       "        6.69756795e-06+0.0000000e+00j,  5.32696687e-06+0.0000000e+00j,\n",
       "        6.52402932e-06+0.0000000e+00j,  5.68207072e-06+0.0000000e+00j,\n",
       "        5.90413709e-06+0.0000000e+00j,  6.02875420e-06+0.0000000e+00j,\n",
       "        5.10921263e-06+0.0000000e+00j,  4.66619600e-06+0.0000000e+00j,\n",
       "        4.45684055e-06+0.0000000e+00j,  4.14683659e-06+0.0000000e+00j,\n",
       "        3.78429032e-06+0.0000000e+00j,  3.63711802e-06+0.0000000e+00j,\n",
       "        3.38272343e-06+0.0000000e+00j,  2.79217632e-06+0.0000000e+00j,\n",
       "        2.58494466e-06+0.0000000e+00j,  2.42004710e-06+0.0000000e+00j,\n",
       "        2.67624364e-06+0.0000000e+00j,  2.07226203e-06+0.0000000e+00j,\n",
       "        2.01406189e-06+0.0000000e+00j,  1.76682236e-06+0.0000000e+00j,\n",
       "        1.58266267e-06+0.0000000e+00j,  1.32343366e-06+0.0000000e+00j,\n",
       "        1.50164691e-06+0.0000000e+00j,  1.44687715e-06+0.0000000e+00j,\n",
       "        1.42921384e-06+0.0000000e+00j,  1.10294549e-06+0.0000000e+00j,\n",
       "        8.51845696e-07+0.0000000e+00j,  9.06454291e-07+0.0000000e+00j,\n",
       "        7.64149136e-07+0.0000000e+00j,  5.86326550e-07+0.0000000e+00j,\n",
       "        5.38429671e-07+0.0000000e+00j,  4.19308081e-07+0.0000000e+00j,\n",
       "        3.35021870e-07+0.0000000e+00j,  2.96426255e-07+0.0000000e+00j,\n",
       "        2.55179170e-07+0.0000000e+00j,  2.20477594e-07+0.0000000e+00j,\n",
       "        1.86845013e-07+0.0000000e+00j,  1.78753354e-07+0.0000000e+00j,\n",
       "        1.55289698e-07+0.0000000e+00j,  1.48229969e-07+0.0000000e+00j,\n",
       "        1.40175152e-07+0.0000000e+00j,  1.04297090e-07+0.0000000e+00j,\n",
       "        9.58735487e-08+0.0000000e+00j,  9.28212750e-08+0.0000000e+00j,\n",
       "        8.83679954e-08+0.0000000e+00j,  7.50370637e-08+0.0000000e+00j,\n",
       "        6.08631564e-08+0.0000000e+00j,  5.69297591e-08+0.0000000e+00j,\n",
       "        5.30854260e-08+0.0000000e+00j,  4.57681079e-08+0.0000000e+00j,\n",
       "        2.90983371e-08+0.0000000e+00j,  2.60506152e-08+0.0000000e+00j,\n",
       "        2.22126333e-08+0.0000000e+00j,  2.12567739e-08+0.0000000e+00j,\n",
       "        1.67381463e-08+0.0000000e+00j,  1.34512225e-08+0.0000000e+00j,\n",
       "        1.27095642e-08+0.0000000e+00j,  1.23737232e-08+0.0000000e+00j,\n",
       "        1.05513580e-08+0.0000000e+00j,  9.88094970e-09+0.0000000e+00j,\n",
       "        8.53506092e-09+0.0000000e+00j,  9.47210798e-09+0.0000000e+00j,\n",
       "        7.42580204e-09+0.0000000e+00j,  6.49240012e-09+0.0000000e+00j,\n",
       "        6.89825284e-09+0.0000000e+00j,  5.78179782e-09+0.0000000e+00j,\n",
       "        2.81162751e-09+0.0000000e+00j,  3.48976083e-09+0.0000000e+00j,\n",
       "        5.03935235e-09+0.0000000e+00j,  1.73464753e-09+0.0000000e+00j,\n",
       "        1.42624658e-09+0.0000000e+00j,  1.81708167e-10+0.0000000e+00j,\n",
       "        2.63747519e-10+0.0000000e+00j,  5.28588665e-10+0.0000000e+00j,\n",
       "        6.14202652e-10+0.0000000e+00j,  7.03926669e-10+0.0000000e+00j,\n",
       "        1.15256662e-09+0.0000000e+00j,  1.07270179e-09+0.0000000e+00j,\n",
       "        9.29812320e-10+0.0000000e+00j,  6.94152515e-16+1.2349087e-16j,\n",
       "        6.94152515e-16-1.2349087e-16j, -4.14796010e-16+0.0000000e+00j,\n",
       "        2.23968695e-18+0.0000000e+00j, -1.52479386e-18+0.0000000e+00j,\n",
       "        0.00000000e+00+0.0000000e+00j,  0.00000000e+00+0.0000000e+00j,\n",
       "        0.00000000e+00+0.0000000e+00j,  0.00000000e+00+0.0000000e+00j,\n",
       "        0.00000000e+00+0.0000000e+00j,  0.00000000e+00+0.0000000e+00j,\n",
       "        0.00000000e+00+0.0000000e+00j,  0.00000000e+00+0.0000000e+00j,\n",
       "        0.00000000e+00+0.0000000e+00j,  0.00000000e+00+0.0000000e+00j,\n",
       "        0.00000000e+00+0.0000000e+00j,  0.00000000e+00+0.0000000e+00j,\n",
       "        0.00000000e+00+0.0000000e+00j,  0.00000000e+00+0.0000000e+00j,\n",
       "        0.00000000e+00+0.0000000e+00j,  0.00000000e+00+0.0000000e+00j,\n",
       "        0.00000000e+00+0.0000000e+00j,  0.00000000e+00+0.0000000e+00j,\n",
       "        0.00000000e+00+0.0000000e+00j,  0.00000000e+00+0.0000000e+00j,\n",
       "        0.00000000e+00+0.0000000e+00j,  0.00000000e+00+0.0000000e+00j,\n",
       "        0.00000000e+00+0.0000000e+00j,  0.00000000e+00+0.0000000e+00j,\n",
       "        0.00000000e+00+0.0000000e+00j,  0.00000000e+00+0.0000000e+00j,\n",
       "        0.00000000e+00+0.0000000e+00j,  0.00000000e+00+0.0000000e+00j,\n",
       "        0.00000000e+00+0.0000000e+00j,  0.00000000e+00+0.0000000e+00j,\n",
       "        0.00000000e+00+0.0000000e+00j,  0.00000000e+00+0.0000000e+00j,\n",
       "        0.00000000e+00+0.0000000e+00j,  0.00000000e+00+0.0000000e+00j,\n",
       "        0.00000000e+00+0.0000000e+00j,  0.00000000e+00+0.0000000e+00j,\n",
       "        0.00000000e+00+0.0000000e+00j,  0.00000000e+00+0.0000000e+00j,\n",
       "        0.00000000e+00+0.0000000e+00j,  0.00000000e+00+0.0000000e+00j,\n",
       "        0.00000000e+00+0.0000000e+00j,  0.00000000e+00+0.0000000e+00j,\n",
       "        0.00000000e+00+0.0000000e+00j,  0.00000000e+00+0.0000000e+00j,\n",
       "        0.00000000e+00+0.0000000e+00j,  0.00000000e+00+0.0000000e+00j,\n",
       "        0.00000000e+00+0.0000000e+00j,  0.00000000e+00+0.0000000e+00j,\n",
       "        0.00000000e+00+0.0000000e+00j,  0.00000000e+00+0.0000000e+00j,\n",
       "        0.00000000e+00+0.0000000e+00j,  0.00000000e+00+0.0000000e+00j,\n",
       "        0.00000000e+00+0.0000000e+00j,  0.00000000e+00+0.0000000e+00j,\n",
       "        0.00000000e+00+0.0000000e+00j,  0.00000000e+00+0.0000000e+00j,\n",
       "        0.00000000e+00+0.0000000e+00j,  0.00000000e+00+0.0000000e+00j,\n",
       "        0.00000000e+00+0.0000000e+00j,  0.00000000e+00+0.0000000e+00j,\n",
       "        0.00000000e+00+0.0000000e+00j,  0.00000000e+00+0.0000000e+00j,\n",
       "        0.00000000e+00+0.0000000e+00j,  0.00000000e+00+0.0000000e+00j,\n",
       "        0.00000000e+00+0.0000000e+00j,  0.00000000e+00+0.0000000e+00j,\n",
       "        0.00000000e+00+0.0000000e+00j,  0.00000000e+00+0.0000000e+00j,\n",
       "        0.00000000e+00+0.0000000e+00j,  0.00000000e+00+0.0000000e+00j,\n",
       "        0.00000000e+00+0.0000000e+00j,  0.00000000e+00+0.0000000e+00j,\n",
       "        0.00000000e+00+0.0000000e+00j,  0.00000000e+00+0.0000000e+00j,\n",
       "        0.00000000e+00+0.0000000e+00j,  0.00000000e+00+0.0000000e+00j,\n",
       "        0.00000000e+00+0.0000000e+00j,  0.00000000e+00+0.0000000e+00j,\n",
       "        0.00000000e+00+0.0000000e+00j,  0.00000000e+00+0.0000000e+00j,\n",
       "        0.00000000e+00+0.0000000e+00j,  0.00000000e+00+0.0000000e+00j,\n",
       "        0.00000000e+00+0.0000000e+00j,  0.00000000e+00+0.0000000e+00j,\n",
       "        0.00000000e+00+0.0000000e+00j,  0.00000000e+00+0.0000000e+00j,\n",
       "        0.00000000e+00+0.0000000e+00j,  0.00000000e+00+0.0000000e+00j,\n",
       "        0.00000000e+00+0.0000000e+00j,  0.00000000e+00+0.0000000e+00j,\n",
       "        0.00000000e+00+0.0000000e+00j,  0.00000000e+00+0.0000000e+00j,\n",
       "        0.00000000e+00+0.0000000e+00j,  0.00000000e+00+0.0000000e+00j,\n",
       "        0.00000000e+00+0.0000000e+00j,  0.00000000e+00+0.0000000e+00j,\n",
       "        0.00000000e+00+0.0000000e+00j,  0.00000000e+00+0.0000000e+00j,\n",
       "        0.00000000e+00+0.0000000e+00j,  0.00000000e+00+0.0000000e+00j,\n",
       "        0.00000000e+00+0.0000000e+00j,  0.00000000e+00+0.0000000e+00j,\n",
       "        0.00000000e+00+0.0000000e+00j,  0.00000000e+00+0.0000000e+00j,\n",
       "        0.00000000e+00+0.0000000e+00j,  0.00000000e+00+0.0000000e+00j,\n",
       "        0.00000000e+00+0.0000000e+00j,  0.00000000e+00+0.0000000e+00j,\n",
       "        0.00000000e+00+0.0000000e+00j,  0.00000000e+00+0.0000000e+00j,\n",
       "        0.00000000e+00+0.0000000e+00j,  0.00000000e+00+0.0000000e+00j,\n",
       "        0.00000000e+00+0.0000000e+00j,  0.00000000e+00+0.0000000e+00j,\n",
       "        0.00000000e+00+0.0000000e+00j,  0.00000000e+00+0.0000000e+00j])"
      ]
     },
     "execution_count": 66,
     "metadata": {},
     "output_type": "execute_result"
    }
   ],
   "source": [
    "eigVals"
   ]
  },
  {
   "cell_type": "code",
   "execution_count": 67,
   "metadata": {},
   "outputs": [
    {
     "data": {
      "text/plain": [
       "116"
      ]
     },
     "execution_count": 67,
     "metadata": {},
     "output_type": "execute_result"
    }
   ],
   "source": [
    "#计算特征值为0的个数\n",
    "(eigVals==0).sum()"
   ]
  },
  {
   "cell_type": "code",
   "execution_count": 68,
   "metadata": {},
   "outputs": [
    {
     "data": {
      "text/plain": [
       "0.19931271477663232"
      ]
     },
     "execution_count": 68,
     "metadata": {},
     "output_type": "execute_result"
    }
   ],
   "source": [
    "#计算特征值为0比例\n",
    "(eigVals==0).sum()/len(eigVals)"
   ]
  },
  {
   "cell_type": "code",
   "execution_count": null,
   "metadata": {},
   "outputs": [],
   "source": []
  }
 ],
 "metadata": {
  "kernelspec": {
   "display_name": "Python 3",
   "language": "python",
   "name": "python3"
  },
  "language_info": {
   "codemirror_mode": {
    "name": "ipython",
    "version": 3
   },
   "file_extension": ".py",
   "mimetype": "text/x-python",
   "name": "python",
   "nbconvert_exporter": "python",
   "pygments_lexer": "ipython3",
   "version": "3.7.2"
  }
 },
 "nbformat": 4,
 "nbformat_minor": 2
}
