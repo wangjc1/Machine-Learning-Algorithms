{
 "cells": [
  {
   "cell_type": "code",
   "execution_count": 1,
   "metadata": {},
   "outputs": [],
   "source": [
    "from sklearn.datasets import load_breast_cancer\n",
    "from sklearn.svm import SVC\n",
    "from sklearn.model_selection import train_test_split\n",
    "import matplotlib.pyplot as plt\n",
    "import numpy as np\n",
    "from time import time\n",
    "import datetime"
   ]
  },
  {
   "cell_type": "code",
   "execution_count": null,
   "metadata": {},
   "outputs": [],
   "source": [
    "data = load_breast_cancer()\n",
    "X = data.data\n",
    "y = data.target"
   ]
  },
  {
   "cell_type": "code",
   "execution_count": null,
   "metadata": {},
   "outputs": [],
   "source": [
    "X.shape"
   ]
  },
  {
   "cell_type": "code",
   "execution_count": null,
   "metadata": {},
   "outputs": [],
   "source": [
    "np.unique(y)"
   ]
  },
  {
   "cell_type": "code",
   "execution_count": null,
   "metadata": {},
   "outputs": [],
   "source": [
    "plt.scatter(X[:,0],X[:,1],c=y)\n",
    "plt.show()"
   ]
  },
  {
   "cell_type": "code",
   "execution_count": null,
   "metadata": {},
   "outputs": [],
   "source": [
    "Xtrain, Xtest, Ytrain, Ytest = train_test_split(X,y,test_size=0.3,random_state=420)"
   ]
  },
  {
   "cell_type": "code",
   "execution_count": null,
   "metadata": {},
   "outputs": [],
   "source": [
    "Kernel = [\"linear\",\"poly\",\"rbf\",\"sigmoid\"]\n",
    "\n",
    "for kernel in Kernel:\n",
    "    time0 = time()\n",
    "    clf= SVC(kernel = kernel\n",
    "             , gamma=\"auto\"\n",
    "            # , degree = 1\n",
    "             , cache_size=5000\n",
    "            ).fit(Xtrain,Ytrain)\n",
    "    print(\"The accuracy under kernel %s is %f\" % (kernel,clf.score(Xtest,Ytest)))\n",
    "    print(datetime.datetime.fromtimestamp(time()-time0).strftime(\"%M:%S:%f\"))"
   ]
  },
  {
   "cell_type": "code",
   "execution_count": null,
   "metadata": {},
   "outputs": [],
   "source": [
    "Kernel = [\"linear\",\"rbf\",\"sigmoid\"]\n",
    "\n",
    "for kernel in Kernel:\n",
    "    time0 = time()\n",
    "    clf= SVC(kernel = kernel\n",
    "             , gamma=\"auto\"\n",
    "            # , degree = 1\n",
    "             , cache_size=5000\n",
    "            ).fit(Xtrain,Ytrain)\n",
    "    print(\"The accuracy under kernel %s is %f\" % (kernel,clf.score(Xtest,Ytest)))\n",
    "    print(datetime.datetime.fromtimestamp(time()-time0).strftime(\"%M:%S:%f\"))"
   ]
  },
  {
   "cell_type": "code",
   "execution_count": null,
   "metadata": {},
   "outputs": [],
   "source": [
    "Kernel = [\"linear\",\"poly\",\"rbf\",\"sigmoid\"]\n",
    "\n",
    "for kernel in Kernel:\n",
    "    time0 = time()\n",
    "    clf= SVC(kernel = kernel\n",
    "             , gamma=\"auto\"\n",
    "             , degree = 1\n",
    "             , cache_size=5000\n",
    "            ).fit(Xtrain,Ytrain)\n",
    "    print(\"The accuracy under kernel %s is %f\" % (kernel,clf.score(Xtest,Ytest)))\n",
    "    print(datetime.datetime.fromtimestamp(time()-time0).strftime(\"%M:%S:%f\"))"
   ]
  },
  {
   "cell_type": "code",
   "execution_count": null,
   "metadata": {},
   "outputs": [],
   "source": [
    "import pandas as pd\n",
    "data = pd.DataFrame(X)\n",
    "data.describe([0.01,0.05,0.1,0.25,0.5,0.75,0.9,0.99]).T"
   ]
  },
  {
   "cell_type": "code",
   "execution_count": null,
   "metadata": {},
   "outputs": [],
   "source": [
    "from sklearn.preprocessing import StandardScaler\n",
    "X = StandardScaler().fit_transform(X)\n",
    "data = pd.DataFrame(X)\n",
    "data.describe([0.01,0.05,0.1,0.25,0.5,0.75,0.9,0.99]).T"
   ]
  },
  {
   "cell_type": "code",
   "execution_count": null,
   "metadata": {},
   "outputs": [],
   "source": [
    "Xtrain, Xtest, Ytrain, Ytest = train_test_split(X,y,test_size=0.3,random_state=420)"
   ]
  },
  {
   "cell_type": "code",
   "execution_count": null,
   "metadata": {},
   "outputs": [],
   "source": [
    "Kernel = [\"linear\",\"poly\",\"rbf\",\"sigmoid\"]\n",
    "\n",
    "for kernel in Kernel:\n",
    "    time0 = time()\n",
    "    clf= SVC(kernel = kernel\n",
    "             , gamma=\"auto\"\n",
    "             , degree = 1\n",
    "             , cache_size=5000\n",
    "            ).fit(Xtrain,Ytrain)\n",
    "    print(\"The accuracy under kernel %s is %f\" % (kernel,clf.score(Xtest,Ytest)))\n",
    "    print(datetime.datetime.fromtimestamp(time()-time0).strftime(\"%M:%S:%f\"))"
   ]
  },
  {
   "cell_type": "code",
   "execution_count": null,
   "metadata": {},
   "outputs": [],
   "source": [
    "score = []\n",
    "gamma_range = np.logspace(-10, 1, 50) #返回在对数刻度上均匀间隔的数字\n",
    "for i in gamma_range:\n",
    "    clf = SVC(kernel=\"rbf\",gamma = i,cache_size=5000).fit(Xtrain,Ytrain)\n",
    "    score.append(clf.score(Xtest,Ytest))\n",
    "    \n",
    "print(max(score), gamma_range[score.index(max(score))])\n",
    "plt.plot(gamma_range,score)\n",
    "plt.show()"
   ]
  },
  {
   "cell_type": "code",
   "execution_count": null,
   "metadata": {},
   "outputs": [],
   "source": [
    "from sklearn.model_selection import StratifiedShuffleSplit\n",
    "from sklearn.model_selection import GridSearchCV"
   ]
  },
  {
   "cell_type": "code",
   "execution_count": null,
   "metadata": {},
   "outputs": [],
   "source": [
    "time0 = time()\n",
    "\n",
    "gamma_range = np.logspace(-10,1,20)\n",
    "coef0_range = np.linspace(0,5,10)\n",
    "\n",
    "param_grid = dict(gamma = gamma_range\n",
    "                  ,coef0 = coef0_range)\n",
    "\n",
    "cv = StratifiedShuffleSplit(n_splits=5, test_size=0.3, random_state=420)\n",
    "grid = GridSearchCV(SVC(kernel = \"poly\",degree=1,cache_size=5000), param_grid=param_grid, cv=cv)\n",
    "grid.fit(X, y)\n",
    "\n",
    "print(\"The best parameters are %s with a score of %0.5f\" % (grid.best_params_, grid.best_score_))\n",
    "print(datetime.datetime.fromtimestamp(time()-time0).strftime(\"%M:%S:%f\"))"
   ]
  },
  {
   "cell_type": "code",
   "execution_count": null,
   "metadata": {},
   "outputs": [],
   "source": [
    "#调线性核函数\n",
    "score = []\n",
    "C_range = np.linspace(0.01,30,50)\n",
    "for i in C_range:\n",
    "    clf = SVC(kernel=\"linear\",C=i,cache_size=5000).fit(Xtrain,Ytrain)\n",
    "    score.append(clf.score(Xtest,Ytest))\n",
    "    \n",
    "print(max(score), C_range[score.index(max(score))])\n",
    "plt.plot(C_range,score)\n",
    "plt.show()"
   ]
  },
  {
   "cell_type": "code",
   "execution_count": null,
   "metadata": {},
   "outputs": [],
   "source": [
    "#换rbf\n",
    "score = []\n",
    "C_range = np.linspace(0.01,30,50)\n",
    "for i in C_range:\n",
    "    clf = SVC(kernel=\"rbf\",C=i,gamma = 0.012742749857031322,cache_size=5000).fit(Xtrain,Ytrain)\n",
    "    score.append(clf.score(Xtest,Ytest))\n",
    "    \n",
    "print(max(score), C_range[score.index(max(score))])\n",
    "plt.plot(C_range,score)\n",
    "plt.show()"
   ]
  },
  {
   "cell_type": "code",
   "execution_count": null,
   "metadata": {},
   "outputs": [],
   "source": [
    "#进一步细化\n",
    "score = []\n",
    "C_range = np.linspace(5,7,50)\n",
    "for i in C_range:\n",
    "    clf = SVC(kernel=\"rbf\",C=i,gamma = 0.012742749857031322,cache_size=5000).fit(Xtrain,Ytrain)\n",
    "    score.append(clf.score(Xtest,Ytest))\n",
    "    \n",
    "print(max(score), C_range[score.index(max(score))])\n",
    "plt.plot(C_range,score)\n",
    "plt.show()"
   ]
  }
 ],
 "metadata": {
  "kernelspec": {
   "display_name": "Python 3",
   "language": "python",
   "name": "python3"
  },
  "language_info": {
   "codemirror_mode": {
    "name": "ipython",
    "version": 3
   },
   "file_extension": ".py",
   "mimetype": "text/x-python",
   "name": "python",
   "nbconvert_exporter": "python",
   "pygments_lexer": "ipython3",
   "version": "3.7.1"
  }
 },
 "nbformat": 4,
 "nbformat_minor": 2
}
