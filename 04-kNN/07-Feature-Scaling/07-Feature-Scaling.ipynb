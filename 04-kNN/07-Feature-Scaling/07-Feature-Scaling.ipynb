{
 "cells": [
  {
   "cell_type": "markdown",
   "metadata": {},
   "source": [
    "## 07 数据归一化处理"
   ]
  },
  {
   "cell_type": "code",
   "execution_count": 1,
   "metadata": {},
   "outputs": [],
   "source": [
    "import numpy as np\n",
    "import matplotlib.pyplot as plt"
   ]
  },
  {
   "cell_type": "markdown",
   "metadata": {},
   "source": [
    "### 最值归一化 Normalization"
   ]
  },
  {
   "cell_type": "code",
   "execution_count": 2,
   "metadata": {},
   "outputs": [],
   "source": [
    "x = np.random.randint(0, 100, 100) "
   ]
  },
  {
   "cell_type": "code",
   "execution_count": 3,
   "metadata": {},
   "outputs": [
    {
     "data": {
      "text/plain": [
       "array([95, 86, 39, 32, 30,  3, 34, 39, 70,  3,  1,  8, 17, 84, 79,  2, 32,\n",
       "       20, 63, 34, 41, 31, 38, 16, 98, 17, 47, 54, 55, 27, 96, 23, 24,  6,\n",
       "        3, 62,  8, 17, 41, 33, 59, 10, 17, 53, 37, 43, 83, 10,  5, 75, 66,\n",
       "       48, 49, 66, 79, 32, 32, 81, 72, 55, 63, 86, 48, 15, 21, 41, 42, 98,\n",
       "       88, 40, 81, 64, 37, 12, 70, 80, 75, 43, 93, 58, 14, 50, 49, 29, 28,\n",
       "        2, 82, 83, 86, 47, 43, 88, 25,  4, 93, 95, 37, 95, 29, 37])"
      ]
     },
     "execution_count": 3,
     "metadata": {},
     "output_type": "execute_result"
    }
   ],
   "source": [
    "x"
   ]
  },
  {
   "cell_type": "code",
   "execution_count": 4,
   "metadata": {},
   "outputs": [
    {
     "data": {
      "text/plain": [
       "array([0.96907216, 0.87628866, 0.39175258, 0.31958763, 0.29896907,\n",
       "       0.02061856, 0.34020619, 0.39175258, 0.71134021, 0.02061856,\n",
       "       0.        , 0.07216495, 0.16494845, 0.8556701 , 0.80412371,\n",
       "       0.01030928, 0.31958763, 0.19587629, 0.63917526, 0.34020619,\n",
       "       0.41237113, 0.30927835, 0.3814433 , 0.15463918, 1.        ,\n",
       "       0.16494845, 0.4742268 , 0.54639175, 0.55670103, 0.26804124,\n",
       "       0.97938144, 0.22680412, 0.2371134 , 0.05154639, 0.02061856,\n",
       "       0.62886598, 0.07216495, 0.16494845, 0.41237113, 0.32989691,\n",
       "       0.59793814, 0.09278351, 0.16494845, 0.53608247, 0.37113402,\n",
       "       0.43298969, 0.84536082, 0.09278351, 0.04123711, 0.7628866 ,\n",
       "       0.67010309, 0.48453608, 0.49484536, 0.67010309, 0.80412371,\n",
       "       0.31958763, 0.31958763, 0.82474227, 0.73195876, 0.55670103,\n",
       "       0.63917526, 0.87628866, 0.48453608, 0.1443299 , 0.20618557,\n",
       "       0.41237113, 0.42268041, 1.        , 0.89690722, 0.40206186,\n",
       "       0.82474227, 0.64948454, 0.37113402, 0.11340206, 0.71134021,\n",
       "       0.81443299, 0.7628866 , 0.43298969, 0.94845361, 0.58762887,\n",
       "       0.13402062, 0.50515464, 0.49484536, 0.28865979, 0.27835052,\n",
       "       0.01030928, 0.83505155, 0.84536082, 0.87628866, 0.4742268 ,\n",
       "       0.43298969, 0.89690722, 0.24742268, 0.03092784, 0.94845361,\n",
       "       0.96907216, 0.37113402, 0.96907216, 0.28865979, 0.37113402])"
      ]
     },
     "execution_count": 4,
     "metadata": {},
     "output_type": "execute_result"
    }
   ],
   "source": [
    "(x - np.min(x)) / (np.max(x) - np.min(x))"
   ]
  },
  {
   "cell_type": "code",
   "execution_count": 5,
   "metadata": {},
   "outputs": [],
   "source": [
    "X = np.random.randint(0, 100, (50, 2))"
   ]
  },
  {
   "cell_type": "code",
   "execution_count": 6,
   "metadata": {},
   "outputs": [],
   "source": [
    "X = np.array(X, dtype=float)"
   ]
  },
  {
   "cell_type": "code",
   "execution_count": 7,
   "metadata": {},
   "outputs": [
    {
     "data": {
      "text/plain": [
       "array([[95., 48.],\n",
       "       [ 8., 30.],\n",
       "       [51., 37.],\n",
       "       [20., 97.],\n",
       "       [52., 95.],\n",
       "       [26., 43.],\n",
       "       [69., 28.],\n",
       "       [20., 74.],\n",
       "       [16.,  7.],\n",
       "       [83., 86.]])"
      ]
     },
     "execution_count": 7,
     "metadata": {},
     "output_type": "execute_result"
    }
   ],
   "source": [
    "X[:10,:]"
   ]
  },
  {
   "cell_type": "code",
   "execution_count": 8,
   "metadata": {},
   "outputs": [],
   "source": [
    "X[:,0] = (X[:,0] - np.min(X[:,0])) / (np.max(X[:,0]) - np.min(X[:,0]))\n",
    "X[:,1] = (X[:,1] - np.min(X[:,1])) / (np.max(X[:,1]) - np.min(X[:,1]))"
   ]
  },
  {
   "cell_type": "code",
   "execution_count": 9,
   "metadata": {},
   "outputs": [
    {
     "data": {
      "text/plain": [
       "array([[0.95876289, 0.4742268 ],\n",
       "       [0.06185567, 0.28865979],\n",
       "       [0.50515464, 0.36082474],\n",
       "       [0.18556701, 0.97938144],\n",
       "       [0.51546392, 0.95876289],\n",
       "       [0.24742268, 0.42268041],\n",
       "       [0.69072165, 0.26804124],\n",
       "       [0.18556701, 0.74226804],\n",
       "       [0.1443299 , 0.05154639],\n",
       "       [0.83505155, 0.86597938]])"
      ]
     },
     "execution_count": 9,
     "metadata": {},
     "output_type": "execute_result"
    }
   ],
   "source": [
    "X[:10,:]"
   ]
  },
  {
   "cell_type": "code",
   "execution_count": 10,
   "metadata": {},
   "outputs": [
    {
     "data": {
      "image/png": "[encoded data removed]",
      "text/plain": [
       "<Figure size 432x288 with 1 Axes>"
      ]
     },
     "metadata": {
      "needs_background": "light"
     },
     "output_type": "display_data"
    }
   ],
   "source": [
    "plt.scatter(X[:,0], X[:,1])\n",
    "plt.show()"
   ]
  },
  {
   "cell_type": "code",
   "execution_count": 11,
   "metadata": {},
   "outputs": [
    {
     "data": {
      "text/plain": [
       "0.49938144329896905"
      ]
     },
     "execution_count": 11,
     "metadata": {},
     "output_type": "execute_result"
    }
   ],
   "source": [
    "np.mean(X[:,0])"
   ]
  },
  {
   "cell_type": "code",
   "execution_count": 24,
   "metadata": {},
   "outputs": [
    {
     "data": {
      "text/plain": [
       "0.816496580927726"
      ]
     },
     "execution_count": 24,
     "metadata": {},
     "output_type": "execute_result"
    }
   ],
   "source": [
    "np.std(X[:,0])"
   ]
  },
  {
   "cell_type": "code",
   "execution_count": 28,
   "metadata": {},
   "outputs": [
    {
     "data": {
      "text/plain": [
       "0.816496580927726"
      ]
     },
     "execution_count": 28,
     "metadata": {},
     "output_type": "execute_result"
    }
   ],
   "source": [
    "V=[0,1,2]\n",
    "v = np.mean(V) #1\n",
    "np.std(V) #np.std(V)=[(0-1)²+(1-1)²+(1-2)²] ÷ 3 =sqrt(2/3)=0.816496580927726"
   ]
  },
  {
   "cell_type": "code",
   "execution_count": 13,
   "metadata": {},
   "outputs": [
    {
     "data": {
      "text/plain": [
       "0.5393814432989692"
      ]
     },
     "execution_count": 13,
     "metadata": {},
     "output_type": "execute_result"
    }
   ],
   "source": [
    "np.mean(X[:,1])"
   ]
  },
  {
   "cell_type": "code",
   "execution_count": 15,
   "metadata": {},
   "outputs": [
    {
     "data": {
      "text/plain": [
       "0.2750042463850547"
      ]
     },
     "execution_count": 15,
     "metadata": {},
     "output_type": "execute_result"
    }
   ],
   "source": [
    "np.std(X[:,1])"
   ]
  },
  {
   "cell_type": "markdown",
   "metadata": {},
   "source": [
    "### 均值方差归一化 Standardization"
   ]
  },
  {
   "cell_type": "code",
   "execution_count": 16,
   "metadata": {},
   "outputs": [],
   "source": [
    "X2 = np.random.randint(0, 100, (50, 2))"
   ]
  },
  {
   "cell_type": "code",
   "execution_count": 17,
   "metadata": {},
   "outputs": [],
   "source": [
    "X2 = np.array(X2, dtype=float)"
   ]
  },
  {
   "cell_type": "code",
   "execution_count": 18,
   "metadata": {},
   "outputs": [
    {
     "data": {
      "text/plain": [
       "array([[20., 34.],\n",
       "       [24., 77.],\n",
       "       [53., 25.],\n",
       "       [56., 59.],\n",
       "       [78., 72.],\n",
       "       [27., 69.],\n",
       "       [47., 76.],\n",
       "       [52., 13.],\n",
       "       [32., 31.],\n",
       "       [17., 72.]])"
      ]
     },
     "execution_count": 18,
     "metadata": {},
     "output_type": "execute_result"
    }
   ],
   "source": [
    "X2[:10,:]"
   ]
  },
  {
   "cell_type": "code",
   "execution_count": 19,
   "metadata": {},
   "outputs": [
    {
     "data": {
      "text/plain": [
       "array([-0.81399871, -0.67900721,  0.29968112,  0.40092474,  1.14337795,\n",
       "       -0.57776359,  0.09719388,  0.26593324, -0.40902423, -0.91524233,\n",
       "        0.02969813,  1.85208329,  1.24462157,  1.04213433,  0.13094175,\n",
       "       -1.18522531, -0.91524233,  0.36717686, -1.11772957,  1.00838646,\n",
       "        0.87339496,  1.24462157, -1.18522531,  1.51460456, -1.38771255,\n",
       "        0.36717686, -1.25272106,  1.5821003 , -1.21897319,  0.43467261,\n",
       "       -1.25272106,  0.29968112,  1.51460456, -1.28646893, -0.71275509,\n",
       "        1.27836944, -0.27403273, -0.37527635, -0.91524233, -0.98273807,\n",
       "       -0.51026785,  1.27836944,  1.2108737 , -1.25272106,  0.36717686,\n",
       "       -1.42146043, -1.18522531,  0.36717686, -0.10529336,  1.7170918 ])"
      ]
     },
     "execution_count": 19,
     "metadata": {},
     "output_type": "execute_result"
    }
   ],
   "source": [
    "X2[:,0] = (X2[:,0] - np.mean(X2[:,0])) / np.std(X2[:,0])\n",
    "X2[:,1] = (X2[:,1] - np.mean(X2[:,1])) / np.std(X2[:,1])"
   ]
  },
  {
   "cell_type": "code",
   "execution_count": 19,
   "metadata": {},
   "outputs": [
    {
     "data": {
      "image/png": "[encoded data removed]",
      "text/plain": [
       "<matplotlib.figure.Figure at 0x10f87ae48>"
      ]
     },
     "metadata": {},
     "output_type": "display_data"
    }
   ],
   "source": [
    "plt.scatter(X2[:,0], X2[:,1])\n",
    "plt.show()"
   ]
  },
  {
   "cell_type": "code",
   "execution_count": 20,
   "metadata": {},
   "outputs": [
    {
     "data": {
      "text/plain": [
       "-1.1990408665951691e-16"
      ]
     },
     "execution_count": 20,
     "metadata": {},
     "output_type": "execute_result"
    }
   ],
   "source": [
    "np.mean(X2[:,0])"
   ]
  },
  {
   "cell_type": "code",
   "execution_count": 21,
   "metadata": {},
   "outputs": [
    {
     "data": {
      "text/plain": [
       "1.0"
      ]
     },
     "execution_count": 21,
     "metadata": {},
     "output_type": "execute_result"
    }
   ],
   "source": [
    "np.std(X2[:,0])"
   ]
  },
  {
   "cell_type": "code",
   "execution_count": 22,
   "metadata": {},
   "outputs": [
    {
     "data": {
      "text/plain": [
       "-1.1546319456101628e-16"
      ]
     },
     "execution_count": 22,
     "metadata": {},
     "output_type": "execute_result"
    }
   ],
   "source": [
    "np.mean(X2[:,1])"
   ]
  },
  {
   "cell_type": "code",
   "execution_count": 23,
   "metadata": {},
   "outputs": [
    {
     "data": {
      "text/plain": [
       "0.99999999999999989"
      ]
     },
     "execution_count": 23,
     "metadata": {},
     "output_type": "execute_result"
    }
   ],
   "source": [
    "np.std(X2[:,1])"
   ]
  }
 ],
 "metadata": {
  "kernelspec": {
   "display_name": "Python 3",
   "language": "python",
   "name": "python3"
  },
  "language_info": {
   "codemirror_mode": {
    "name": "ipython",
    "version": 3
   },
   "file_extension": ".py",
   "mimetype": "text/x-python",
   "name": "python",
   "nbconvert_exporter": "python",
   "pygments_lexer": "ipython3",
   "version": "3.7.2"
  }
 },
 "nbformat": 4,
 "nbformat_minor": 2
}
